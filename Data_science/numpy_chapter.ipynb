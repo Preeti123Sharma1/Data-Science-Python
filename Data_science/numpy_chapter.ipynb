{
 "cells": [
  {
   "cell_type": "code",
   "execution_count": 1,
   "metadata": {},
   "outputs": [],
   "source": [
    "import numpy as np # np is also numpy"
   ]
  },
  {
   "cell_type": "code",
   "execution_count": 3,
   "metadata": {},
   "outputs": [
    {
     "name": "stdout",
     "output_type": "stream",
     "text": [
      "[1 2 3 4 5]\n",
      "<class 'numpy.ndarray'>\n"
     ]
    }
   ],
   "source": [
    "# creation of numpy array\n",
    "\n",
    "x = np.array ([1,2,3,4,5])\n",
    "print(x)\n",
    "print(type(x))  #ndarray"
   ]
  },
  {
   "cell_type": "code",
   "execution_count": 5,
   "metadata": {},
   "outputs": [
    {
     "name": "stdout",
     "output_type": "stream",
     "text": [
      "5\n",
      "(5,)\n",
      "1\n"
     ]
    }
   ],
   "source": [
    "# shape and size\n",
    "print(x.size) # total no. of elements\n",
    "print(x.shape) # dimension wise elements\n",
    "print(x.ndim) # num of dimensions"
   ]
  },
  {
   "cell_type": "code",
   "execution_count": 3,
   "metadata": {},
   "outputs": [
    {
     "name": "stdout",
     "output_type": "stream",
     "text": [
      "[[1 2 3]\n",
      " [4 5 6]]\n",
      "6\n",
      "(2, 3)\n",
      "2\n"
     ]
    }
   ],
   "source": [
    "x2d = np.array([[1,2,3],[4,5,6]])\n",
    "print(x2d)\n",
    "# shape and size\n",
    "print(x2d.size) # total no. of elements\n",
    "print(x2d.shape) # dimension wise elements\n",
    "print(x2d.ndim) # num of dimensions"
   ]
  },
  {
   "cell_type": "code",
   "execution_count": 13,
   "metadata": {},
   "outputs": [
    {
     "name": "stdout",
     "output_type": "stream",
     "text": [
      "[[38 71 31 23 54]\n",
      " [35 92 36 51 31]\n",
      " [12 76 35 92 17]\n",
      " [11 67 36 46 72]\n",
      " [94 14  8 20 83]]\n"
     ]
    }
   ],
   "source": [
    "x25 = np.random.randint(1,100,(5,5)) # there we always find no. between 1 to 100 \n",
    "print(x25)"
   ]
  },
  {
   "cell_type": "code",
   "execution_count": 15,
   "metadata": {},
   "outputs": [
    {
     "name": "stdout",
     "output_type": "stream",
     "text": [
      "25 elements\n",
      "=>1D MATRIX\n",
      "[ 1  5  9 13 17 21 25 29 33 37 41 45 49 53 57 61 65 69 73 77 81 85 89 93\n",
      " 97]\n",
      "=>1D MATRIX RESHAPED TO 2D\n",
      "[[ 1  5  9 13 17]\n",
      " [21 25 29 33 37]\n",
      " [41 45 49 53 57]\n",
      " [61 65 69 73 77]\n",
      " [81 85 89 93 97]]\n"
     ]
    }
   ],
   "source": [
    "xseq1 = np.arange(1,101,4)\n",
    "print(xseq1.size,\"elements\")\n",
    "print(\"=>1D MATRIX\")\n",
    "print(xseq1)\n",
    "print(\"=>1D MATRIX RESHAPED TO 2D\")\n",
    "print(xseq1.reshape(5,5))"
   ]
  },
  {
   "cell_type": "code",
   "execution_count": 8,
   "metadata": {},
   "outputs": [
    {
     "name": "stdout",
     "output_type": "stream",
     "text": [
      "50 elements\n",
      "=> 1D MATRIX\n",
      "[  1.           3.04081633   5.08163265   7.12244898   9.16326531\n",
      "  11.20408163  13.24489796  15.28571429  17.32653061  19.36734694\n",
      "  21.40816327  23.44897959  25.48979592  27.53061224  29.57142857\n",
      "  31.6122449   33.65306122  35.69387755  37.73469388  39.7755102\n",
      "  41.81632653  43.85714286  45.89795918  47.93877551  49.97959184\n",
      "  52.02040816  54.06122449  56.10204082  58.14285714  60.18367347\n",
      "  62.2244898   64.26530612  66.30612245  68.34693878  70.3877551\n",
      "  72.42857143  74.46938776  76.51020408  78.55102041  80.59183673\n",
      "  82.63265306  84.67346939  86.71428571  88.75510204  90.79591837\n",
      "  92.83673469  94.87755102  96.91836735  98.95918367 101.        ]\n",
      "=>1D MATRIX RESHAPED TO 2D\n",
      "[[  1.           3.04081633   5.08163265   7.12244898   9.16326531]\n",
      " [ 11.20408163  13.24489796  15.28571429  17.32653061  19.36734694]\n",
      " [ 21.40816327  23.44897959  25.48979592  27.53061224  29.57142857]\n",
      " [ 31.6122449   33.65306122  35.69387755  37.73469388  39.7755102 ]\n",
      " [ 41.81632653  43.85714286  45.89795918  47.93877551  49.97959184]\n",
      " [ 52.02040816  54.06122449  56.10204082  58.14285714  60.18367347]\n",
      " [ 62.2244898   64.26530612  66.30612245  68.34693878  70.3877551 ]\n",
      " [ 72.42857143  74.46938776  76.51020408  78.55102041  80.59183673]\n",
      " [ 82.63265306  84.67346939  86.71428571  88.75510204  90.79591837]\n",
      " [ 92.83673469  94.87755102  96.91836735  98.95918367 101.        ]]\n",
      "=>1D MATRIX RESHAPED TO 3D\n",
      "[[[  1.           3.04081633]\n",
      "  [  5.08163265   7.12244898]\n",
      "  [  9.16326531  11.20408163]\n",
      "  [ 13.24489796  15.28571429]\n",
      "  [ 17.32653061  19.36734694]]\n",
      "\n",
      " [[ 21.40816327  23.44897959]\n",
      "  [ 25.48979592  27.53061224]\n",
      "  [ 29.57142857  31.6122449 ]\n",
      "  [ 33.65306122  35.69387755]\n",
      "  [ 37.73469388  39.7755102 ]]\n",
      "\n",
      " [[ 41.81632653  43.85714286]\n",
      "  [ 45.89795918  47.93877551]\n",
      "  [ 49.97959184  52.02040816]\n",
      "  [ 54.06122449  56.10204082]\n",
      "  [ 58.14285714  60.18367347]]\n",
      "\n",
      " [[ 62.2244898   64.26530612]\n",
      "  [ 66.30612245  68.34693878]\n",
      "  [ 70.3877551   72.42857143]\n",
      "  [ 74.46938776  76.51020408]\n",
      "  [ 78.55102041  80.59183673]]\n",
      "\n",
      " [[ 82.63265306  84.67346939]\n",
      "  [ 86.71428571  88.75510204]\n",
      "  [ 90.79591837  92.83673469]\n",
      "  [ 94.87755102  96.91836735]\n",
      "  [ 98.95918367 101.        ]]]\n"
     ]
    }
   ],
   "source": [
    "xseq2 = np.linspace(1, 101, 50) \n",
    "print(xseq2.size,\"elements\") \n",
    "print(\"=> 1D MATRIX\")\n",
    "print(xseq2)\n",
    "print(\"=>1D MATRIX RESHAPED TO 2D\")\n",
    "print(xseq2.reshape(10,5))\n",
    "print(\"=>1D MATRIX RESHAPED TO 3D\")\n",
    "print(xseq2.reshape(5,5,2))"
   ]
  },
  {
   "cell_type": "code",
   "execution_count": 10,
   "metadata": {},
   "outputs": [
    {
     "name": "stdout",
     "output_type": "stream",
     "text": [
      "[[  1.           3.04081633   5.08163265   7.12244898   9.16326531]\n",
      " [ 11.20408163  13.24489796  15.28571429  17.32653061  19.36734694]\n",
      " [ 21.40816327  23.44897959  25.48979592  27.53061224  29.57142857]\n",
      " [ 31.6122449   33.65306122  35.69387755  37.73469388  39.7755102 ]\n",
      " [ 41.81632653  43.85714286  45.89795918  47.93877551  49.97959184]\n",
      " [ 52.02040816  54.06122449  56.10204082  58.14285714  60.18367347]\n",
      " [ 62.2244898   64.26530612  66.30612245  68.34693878  70.3877551 ]\n",
      " [ 72.42857143  74.46938776  76.51020408  78.55102041  80.59183673]\n",
      " [ 82.63265306  84.67346939  86.71428571  88.75510204  90.79591837]\n",
      " [ 92.83673469  94.87755102  96.91836735  98.95918367 101.        ]]\n"
     ]
    }
   ],
   "source": [
    "xseq2d = xseq2.reshape(10,5)\n",
    "print(xseq2d)"
   ]
  },
  {
   "cell_type": "code",
   "execution_count": 16,
   "metadata": {},
   "outputs": [
    {
     "data": {
      "text/plain": [
       "array([[1, 1, 1, 1, 1],\n",
       "       [1, 1, 1, 1, 1],\n",
       "       [1, 1, 1, 1, 1],\n",
       "       [1, 1, 1, 1, 1],\n",
       "       [1, 1, 1, 1, 1]])"
      ]
     },
     "execution_count": 16,
     "metadata": {},
     "output_type": "execute_result"
    }
   ],
   "source": [
    "np.ones((5,5), dtype='int')"
   ]
  },
  {
   "cell_type": "code",
   "execution_count": 21,
   "metadata": {},
   "outputs": [
    {
     "data": {
      "text/plain": [
       "array([[65, 87, 53, 56, 34],\n",
       "       [43, 34, 68, 75, 11],\n",
       "       [56, 86, 93, 41, 88],\n",
       "       [75, 36, 18, 42, 57],\n",
       "       [45, 60, 25, 25,  7]])"
      ]
     },
     "execution_count": 21,
     "metadata": {},
     "output_type": "execute_result"
    }
   ],
   "source": [
    "x25"
   ]
  },
  {
   "cell_type": "code",
   "execution_count": 24,
   "metadata": {},
   "outputs": [
    {
     "name": "stdout",
     "output_type": "stream",
     "text": [
      "[65 87 53 56 34]\n"
     ]
    }
   ],
   "source": [
    "# first row\n",
    "print(x25[0])"
   ]
  },
  {
   "cell_type": "code",
   "execution_count": 25,
   "metadata": {},
   "outputs": [
    {
     "name": "stdout",
     "output_type": "stream",
     "text": [
      "[45 60 25 25  7]\n"
     ]
    }
   ],
   "source": [
    "# last row\n",
    "print(x25[-1])"
   ]
  },
  {
   "cell_type": "code",
   "execution_count": 26,
   "metadata": {},
   "outputs": [
    {
     "name": "stdout",
     "output_type": "stream",
     "text": [
      "87\n"
     ]
    }
   ],
   "source": [
    "# single element\n",
    "print(x25[0,1]) # same as print(x25[0][1])"
   ]
  },
  {
   "cell_type": "code",
   "execution_count": 27,
   "metadata": {},
   "outputs": [
    {
     "name": "stdout",
     "output_type": "stream",
     "text": [
      "[65 43 56 75 45]\n",
      "[[65 87 53 56 34]]\n",
      "[34 11 88 57  7]\n"
     ]
    }
   ],
   "source": [
    "# 1st columns\n",
    "print(x25[:, 0])\n",
    "\n",
    "# 2nd columns\n",
    "print(x25[: 1])\n",
    "\n",
    "# last columns\n",
    "print(x25[:, -1])"
   ]
  },
  {
   "cell_type": "code",
   "execution_count": 28,
   "metadata": {},
   "outputs": [
    {
     "name": "stdout",
     "output_type": "stream",
     "text": [
      "[[65 87]\n",
      " [43 34]\n",
      " [56 86]\n",
      " [75 36]\n",
      " [45 60]]\n"
     ]
    }
   ],
   "source": [
    "# column 0 and 1 index\n",
    "print(x25[:, [0,1]])"
   ]
  },
  {
   "cell_type": "code",
   "execution_count": 29,
   "metadata": {},
   "outputs": [
    {
     "name": "stdout",
     "output_type": "stream",
     "text": [
      "[[65 87 53]\n",
      " [43 34 68]\n",
      " [56 86 93]\n",
      " [75 36 18]\n",
      " [45 60 25]]\n",
      "[[65 87 53]\n",
      " [43 34 68]\n",
      " [56 86 93]\n",
      " [75 36 18]\n",
      " [45 60 25]]\n"
     ]
    }
   ],
   "source": [
    "# column 0,1,2 idxs\n",
    "print(x25[:, [0,1,2]])\n",
    "# same thing as above\n",
    "print(x25[:, :3])"
   ]
  },
  {
   "cell_type": "code",
   "execution_count": 33,
   "metadata": {},
   "outputs": [
    {
     "name": "stdout",
     "output_type": "stream",
     "text": [
      "11\n",
      "18\n",
      "7\n"
     ]
    }
   ],
   "source": [
    "# filtering data without numpy boolean filter(bad idea)\n",
    "for i in x25:\n",
    "    for j in i:\n",
    "        if j <= 20:\n",
    "            print(j)"
   ]
  },
  {
   "cell_type": "code",
   "execution_count": 34,
   "metadata": {},
   "outputs": [
    {
     "data": {
      "text/plain": [
       "array([[False, False, False, False, False],\n",
       "       [False, False, False, False,  True],\n",
       "       [False, False, False, False, False],\n",
       "       [False, False,  True, False, False],\n",
       "       [False, False, False, False,  True]])"
      ]
     },
     "execution_count": 34,
     "metadata": {},
     "output_type": "execute_result"
    }
   ],
   "source": [
    "x25 <= 20 # boolean filter"
   ]
  },
  {
   "cell_type": "code",
   "execution_count": 35,
   "metadata": {},
   "outputs": [
    {
     "data": {
      "text/plain": [
       "array([11, 18,  7])"
      ]
     },
     "execution_count": 35,
     "metadata": {},
     "output_type": "execute_result"
    }
   ],
   "source": [
    "x25[ x25 <= 20]"
   ]
  },
  {
   "cell_type": "code",
   "execution_count": 36,
   "metadata": {},
   "outputs": [
    {
     "data": {
      "text/plain": [
       "array([65, 87, 53, 56, 68, 75, 56, 86, 93, 88, 75, 57, 60])"
      ]
     },
     "execution_count": 36,
     "metadata": {},
     "output_type": "execute_result"
    }
   ],
   "source": [
    "x25[ x25 > 50]"
   ]
  },
  {
   "cell_type": "code",
   "execution_count": 39,
   "metadata": {},
   "outputs": [
    {
     "data": {
      "text/plain": [
       "array([[ True, False,  True,  True,  True],\n",
       "       [ True,  True,  True, False, False],\n",
       "       [ True, False, False,  True, False],\n",
       "       [False,  True, False,  True,  True],\n",
       "       [ True,  True,  True,  True, False]])"
      ]
     },
     "execution_count": 39,
     "metadata": {},
     "output_type": "execute_result"
    }
   ],
   "source": [
    "(x25 > 20) & (x25 < 70)"
   ]
  },
  {
   "cell_type": "code",
   "execution_count": 40,
   "metadata": {},
   "outputs": [
    {
     "data": {
      "text/plain": [
       "array([65, 53, 56, 34, 43, 34, 68, 56, 41, 36, 42, 57, 45, 60, 25, 25])"
      ]
     },
     "execution_count": 40,
     "metadata": {},
     "output_type": "execute_result"
    }
   ],
   "source": [
    "x25[(x25 > 20) & (x25 < 70)]"
   ]
  },
  {
   "cell_type": "code",
   "execution_count": 42,
   "metadata": {},
   "outputs": [
    {
     "name": "stdout",
     "output_type": "stream",
     "text": [
      "\u001b[0;31mSignature:\u001b[0m \u001b[0mnp\u001b[0m\u001b[0;34m.\u001b[0m\u001b[0mappend\u001b[0m\u001b[0;34m(\u001b[0m\u001b[0marr\u001b[0m\u001b[0;34m,\u001b[0m \u001b[0mvalues\u001b[0m\u001b[0;34m,\u001b[0m \u001b[0maxis\u001b[0m\u001b[0;34m=\u001b[0m\u001b[0;32mNone\u001b[0m\u001b[0;34m)\u001b[0m\u001b[0;34m\u001b[0m\u001b[0;34m\u001b[0m\u001b[0m\n",
      "\u001b[0;31mDocstring:\u001b[0m\n",
      "Append values to the end of an array.\n",
      "\n",
      "Parameters\n",
      "----------\n",
      "arr : array_like\n",
      "    Values are appended to a copy of this array.\n",
      "values : array_like\n",
      "    These values are appended to a copy of `arr`.  It must be of the\n",
      "    correct shape (the same shape as `arr`, excluding `axis`).  If\n",
      "    `axis` is not specified, `values` can be any shape and will be\n",
      "    flattened before use.\n",
      "axis : int, optional\n",
      "    The axis along which `values` are appended.  If `axis` is not\n",
      "    given, both `arr` and `values` are flattened before use.\n",
      "\n",
      "Returns\n",
      "-------\n",
      "append : ndarray\n",
      "    A copy of `arr` with `values` appended to `axis`.  Note that\n",
      "    `append` does not occur in-place: a new array is allocated and\n",
      "    filled.  If `axis` is None, `out` is a flattened array.\n",
      "\n",
      "See Also\n",
      "--------\n",
      "insert : Insert elements into an array.\n",
      "delete : Delete elements from an array.\n",
      "\n",
      "Examples\n",
      "--------\n",
      ">>> np.append([1, 2, 3], [[4, 5, 6], [7, 8, 9]])\n",
      "array([1, 2, 3, ..., 7, 8, 9])\n",
      "\n",
      "When `axis` is specified, `values` must have the correct shape.\n",
      "\n",
      ">>> np.append([[1, 2, 3], [4, 5, 6]], [[7, 8, 9]], axis=0)\n",
      "array([[1, 2, 3],\n",
      "       [4, 5, 6],\n",
      "       [7, 8, 9]])\n",
      ">>> np.append([[1, 2, 3], [4, 5, 6]], [7, 8, 9], axis=0)\n",
      "Traceback (most recent call last):\n",
      "    ...\n",
      "ValueError: all the input arrays must have same number of dimensions, but\n",
      "the array at index 0 has 2 dimension(s) and the array at index 1 has 1\n",
      "dimension(s)\n",
      "\u001b[0;31mFile:\u001b[0m      ~/.local/lib/python3.9/site-packages/numpy/lib/function_base.py\n",
      "\u001b[0;31mType:\u001b[0m      function\n"
     ]
    }
   ],
   "source": [
    "np.append?"
   ]
  },
  {
   "cell_type": "code",
   "execution_count": 44,
   "metadata": {},
   "outputs": [
    {
     "data": {
      "text/plain": [
       "array([65, 87, 53, 56, 34, 43, 34, 68, 75, 11, 56, 86, 93, 41, 88, 75, 36,\n",
       "       18, 42, 57, 45, 60, 25, 25,  7,  1,  2,  3,  4,  5])"
      ]
     },
     "execution_count": 44,
     "metadata": {},
     "output_type": "execute_result"
    }
   ],
   "source": [
    "np.append(x25, [1,2,3,4,5]) # not as expected, but work"
   ]
  },
  {
   "cell_type": "code",
   "execution_count": 47,
   "metadata": {},
   "outputs": [
    {
     "data": {
      "text/plain": [
       "array([[65, 87, 53, 56, 34],\n",
       "       [43, 34, 68, 75, 11],\n",
       "       [56, 86, 93, 41, 88],\n",
       "       [75, 36, 18, 42, 57],\n",
       "       [45, 60, 25, 25,  7],\n",
       "       [ 1,  2,  3,  4,  5]])"
      ]
     },
     "execution_count": 47,
     "metadata": {},
     "output_type": "execute_result"
    }
   ],
   "source": [
    "np.append(x25, np.array([[1,2,3,4,5]]), axis = 0) # two square brakets means 2D array"
   ]
  },
  {
   "cell_type": "code",
   "execution_count": 48,
   "metadata": {},
   "outputs": [],
   "source": [
    "a = np.random.randint(1,100, (3,2))\n",
    "b = np.random.randint(1,100, (2,3))"
   ]
  },
  {
   "cell_type": "code",
   "execution_count": 49,
   "metadata": {},
   "outputs": [
    {
     "name": "stdout",
     "output_type": "stream",
     "text": [
      "(3, 2)\n",
      "(2, 3)\n"
     ]
    }
   ],
   "source": [
    "print(a.shape)\n",
    "print(b.shape)"
   ]
  },
  {
   "cell_type": "markdown",
   "metadata": {},
   "source": [
    "# transpose matriix\n",
    "* we can add another matrix to the previous matrix in horizontal or in vertical direction"
   ]
  },
  {
   "cell_type": "code",
   "execution_count": 53,
   "metadata": {},
   "outputs": [
    {
     "data": {
      "text/plain": [
       "array([[16, 68, 42],\n",
       "       [44, 86, 52]])"
      ]
     },
     "execution_count": 53,
     "metadata": {},
     "output_type": "execute_result"
    }
   ],
   "source": [
    "a.T # same as a.Transpose"
   ]
  },
  {
   "cell_type": "code",
   "execution_count": 52,
   "metadata": {},
   "outputs": [
    {
     "name": "stdout",
     "output_type": "stream",
     "text": [
      "[[16 44 14 18]\n",
      " [68 86 71  1]\n",
      " [42 52 52 94]]\n"
     ]
    }
   ],
   "source": [
    "print(np.hstack((a,b.T))) # horizontal stacking"
   ]
  },
  {
   "cell_type": "code",
   "execution_count": 55,
   "metadata": {},
   "outputs": [
    {
     "name": "stdout",
     "output_type": "stream",
     "text": [
      "[[16 68 42 14 71 52]\n",
      " [44 86 52 18  1 94]]\n"
     ]
    }
   ],
   "source": [
    "print(np.hstack((a.T,b)))"
   ]
  },
  {
   "cell_type": "code",
   "execution_count": 57,
   "metadata": {},
   "outputs": [
    {
     "name": "stdout",
     "output_type": "stream",
     "text": [
      "[[16 44]\n",
      " [68 86]\n",
      " [42 52]\n",
      " [14 18]\n",
      " [71  1]\n",
      " [52 94]]\n",
      "[[16 68 42]\n",
      " [44 86 52]\n",
      " [14 71 52]\n",
      " [18  1 94]]\n"
     ]
    }
   ],
   "source": [
    "# vertical stacking\n",
    "print(np.vstack((a,b.T))) \n",
    "print(np.vstack((a.T,b)))"
   ]
  },
  {
   "cell_type": "code",
   "execution_count": 16,
   "metadata": {},
   "outputs": [
    {
     "name": "stdout",
     "output_type": "stream",
     "text": [
      "[[5 1 6]\n",
      " [7 7 6]\n",
      " [4 5 7]]\n",
      "\n",
      "[[3 7 3]\n",
      " [1 4 6]\n",
      " [9 8 5]]\n"
     ]
    }
   ],
   "source": [
    "x=np.random.randint(1,10,(3,3)) # between 1 to 10 and 3x3 matrix\n",
    "y=np.random.randint(1,10,(3,3)) \n",
    "print(x)\n",
    "print()\n",
    "print(y)"
   ]
  },
  {
   "cell_type": "code",
   "execution_count": 19,
   "metadata": {},
   "outputs": [
    {
     "name": "stdout",
     "output_type": "stream",
     "text": [
      "add\n",
      "[[ 8  8  9]\n",
      " [ 8 11 12]\n",
      " [13 13 12]]\n",
      "\n",
      "sub\n",
      "[[ 2 -6  3]\n",
      " [ 6  3  0]\n",
      " [-5 -3  2]]\n",
      "\n",
      "div\n",
      "[[1.66666667 0.14285714 2.        ]\n",
      " [7.         1.75       1.        ]\n",
      " [0.44444444 0.625      1.4       ]]\n",
      "\n",
      "elements wise multiplication\n",
      "[[15  7 18]\n",
      " [ 7 28 36]\n",
      " [36 40 35]]\n",
      "\n",
      "element wise mod\n",
      "[[2 1 0]\n",
      " [0 3 0]\n",
      " [4 5 2]]\n"
     ]
    }
   ],
   "source": [
    "print(\"add\")\n",
    "print(x+y) # addition\n",
    "\n",
    "print('\\nsub')\n",
    "print(x-y) # subtraction\n",
    "\n",
    "print('\\ndiv')\n",
    "print(x/y) # divide\n",
    "\n",
    "print('\\nelements wise multiplication')\n",
    "print(x*y) # element wise mulriplication\n",
    "\n",
    "print('\\nelement wise mod')\n",
    "print(x % y) # element wise multiplication"
   ]
  },
  {
   "cell_type": "code",
   "execution_count": 20,
   "metadata": {},
   "outputs": [
    {
     "name": "stdout",
     "output_type": "stream",
     "text": [
      "[[ 70  87  51]\n",
      " [ 82 125  93]\n",
      " [ 80 104  77]]\n",
      "\n"
     ]
    }
   ],
   "source": [
    "print(x.dot(y)) # mat multiplication \n",
    "print()"
   ]
  },
  {
   "cell_type": "code",
   "execution_count": 21,
   "metadata": {},
   "outputs": [
    {
     "data": {
      "text/plain": [
       "48"
      ]
     },
     "execution_count": 21,
     "metadata": {},
     "output_type": "execute_result"
    }
   ],
   "source": [
    "x.sum() # sum of all values"
   ]
  },
  {
   "cell_type": "code",
   "execution_count": 22,
   "metadata": {},
   "outputs": [
    {
     "data": {
      "text/plain": [
       "array([16, 13, 19])"
      ]
     },
     "execution_count": 22,
     "metadata": {},
     "output_type": "execute_result"
    }
   ],
   "source": [
    "x.sum(axis=0) #row wise sum"
   ]
  },
  {
   "cell_type": "code",
   "execution_count": 14,
   "metadata": {},
   "outputs": [
    {
     "name": "stdout",
     "output_type": "stream",
     "text": [
      "4.777777777777778\n",
      "[3.66666667 4.33333333 6.33333333]\n",
      "[7.66666667 1.66666667 5.        ]\n"
     ]
    }
   ],
   "source": [
    "print(x.mean()) # all\n",
    "print(x.mean(axis=0)) # row\n",
    "print(x.mean(axis=1)) # column"
   ]
  },
  {
   "cell_type": "code",
   "execution_count": 15,
   "metadata": {},
   "outputs": [
    {
     "name": "stdout",
     "output_type": "stream",
     "text": [
      "9\n",
      "1\n",
      "1\n",
      "1\n",
      "2\n"
     ]
    }
   ],
   "source": [
    "print(x.max()) # max value\n",
    "print(x.min()) # min value\n",
    "print(x.argmax()) # index of max value\n",
    "print(x.argmax()) # index of min value\n",
    "print(x.flatten()[4]) # accessing the index value given by argmax()"
   ]
  },
  {
   "cell_type": "code",
   "execution_count": 16,
   "metadata": {},
   "outputs": [
    {
     "data": {
      "text/plain": [
       "5.0"
      ]
     },
     "execution_count": 16,
     "metadata": {},
     "output_type": "execute_result"
    }
   ],
   "source": [
    "np.median(x) # some function are called using np, if not available through the variable"
   ]
  },
  {
   "cell_type": "code",
   "execution_count": null,
   "metadata": {},
   "outputs": [],
   "source": []
  }
 ],
 "metadata": {
  "kernelspec": {
   "display_name": "Python 3.9.12 ('base')",
   "language": "python",
   "name": "python3"
  },
  "language_info": {
   "codemirror_mode": {
    "name": "ipython",
    "version": 3
   },
   "file_extension": ".py",
   "mimetype": "text/x-python",
   "name": "python",
   "nbconvert_exporter": "python",
   "pygments_lexer": "ipython3",
   "version": "3.9.12"
  },
  "orig_nbformat": 4,
  "vscode": {
   "interpreter": {
    "hash": "3d597f4c481aa0f25dceb95d2a0067e73c0966dcbd003d741d821a7208527ecf"
   }
  }
 },
 "nbformat": 4,
 "nbformat_minor": 2
}
