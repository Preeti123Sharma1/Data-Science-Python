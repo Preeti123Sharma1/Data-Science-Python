{
 "cells": [
  {
   "cell_type": "code",
   "execution_count": 6,
   "metadata": {},
   "outputs": [],
   "source": [
    "import requests\n",
    "from bs4 import BeautifulSoup"
   ]
  },
  {
   "cell_type": "code",
   "execution_count": 7,
   "metadata": {},
   "outputs": [],
   "source": [
    "def get_soup(url):\n",
    "    page = requests.get(url)\n",
    "    return BeautifulSoup(page.text)"
   ]
  },
  {
   "cell_type": "code",
   "execution_count": 8,
   "metadata": {},
   "outputs": [],
   "source": [
    "soup = get_soup('https://www.ndtv.com/latest')"
   ]
  },
  {
   "cell_type": "code",
   "execution_count": 9,
   "metadata": {},
   "outputs": [],
   "source": [
    "target = soup.find('div', attrs= {'class':'lisingNews'})"
   ]
  },
  {
   "cell_type": "code",
   "execution_count": 10,
   "metadata": {},
   "outputs": [
    {
     "name": "stdout",
     "output_type": "stream",
     "text": [
      "17\n"
     ]
    }
   ],
   "source": [
    "newslist = target.find_all('div',attrs={'class':'news_Itm'})\n",
    "print(len(newslist))"
   ]
  },
  {
   "cell_type": "code",
   "execution_count": 11,
   "metadata": {},
   "outputs": [],
   "source": [
    "data = [] # save the content in disionnory\n",
    "for news in newslist:\n",
    "    title = news.find('h2',attrs={'class':'newsHdng'})\n",
    "    details = news.find('span', attrs={'class':'posted-by'})\n",
    "    if title and details:\n",
    "        #print('-->HEADLINES','--'*40)\n",
    "        #print(title.text)\n",
    "        #print(details.text.strip())\n",
    "        data.append({\n",
    "            'title':title.text.strip(),\n",
    "            'details':details.text.strip()\n",
    "        })"
   ]
  },
  {
   "cell_type": "code",
   "execution_count": 12,
   "metadata": {},
   "outputs": [
    {
     "data": {
      "text/plain": [
       "[{'title': 'Vladimir Putin Warns France\\'s Macron Of \"Catastrophe\" Over Ukraine Nuclear Plant Attacks',\n",
       "  'details': 'Agence France-Presse   | Sunday September 11, 2022, Moscow'},\n",
       " {'title': 'CBSE Class 10 Compartment Result 2022 Out; Delhi Schools Record 16 Per Cent Increase In Pass Percentage',\n",
       "  'details': 'Reported by Press Trust of India | Sunday September 11, 2022'},\n",
       " {'title': \"Video: Hyderabad's 12-Kg Ganesh Laddoo Auctioned For Record Rs 45 Lakh\",\n",
       "  'details': 'Reported by Uma Sudhir, Edited by Shatabdi Chowdhury  | Sunday September 11, 2022, Hyderabad'},\n",
       " {'title': '3-Year-Old Girl Kidnapped From House, Raped: Madhya Pradesh Cops',\n",
       "  'details': 'Press Trust of India   | Sunday September 11, 2022, Katni'},\n",
       " {'title': 'JEE Advanced 2022 Result: Meet All India Girl Topper Tanishka Kabra',\n",
       "  'details': 'Written by Adarsh Srivastava  | Sunday September 11, 2022'},\n",
       " {'title': 'Watch: Naseem Shah Jaffa Sends Stump Flying, Kusal Mendis Falls For Golden Duck In Asia Cup Final',\n",
       "  'details': 'Vedant Yadav   | Sunday September 11, 2022'},\n",
       " {'title': '\"She Said Yes\": Veda Krishnamurthy Gets Engaged To Karnataka Cricketer Arjun Hoysala. See Pics',\n",
       "  'details': 'Tushar Mamgaain   | Sunday September 11, 2022'},\n",
       " {'title': '\"We Have To Be Prepared For A Fight\": Sharad Pawar To Party Workers',\n",
       "  'details': 'Press Trust of India   | Sunday September 11, 2022, New Delhi'},\n",
       " {'title': \"21 Years Of 9/11 Attacks: Here's The Story Behind The Famous 'Falling Man' Photo\",\n",
       "  'details': 'Edited by Bhavya Sukheja  | Sunday September 11, 2022'},\n",
       " {'title': \"Australia vs New Zealand, 3rd ODI: Steve Smith Stars With Ton As Australia Beat New Zealand In Finch's ODI Swansong\",\n",
       "  'details': 'Agence France-Presse   | Sunday September 11, 2022'},\n",
       " {'title': 'Maharashtra MAH MCA CET 2022 Result Out; Direct Link Here',\n",
       "  'details': 'Written by Adarsh Srivastava  | Sunday September 11, 2022'},\n",
       " {'title': \"Bank Manager Duped Of Rs 40 Lakh By Man Posing As Firm's Director In Maharashtra: Cops\",\n",
       "  'details': 'Press Trust of India   | Sunday September 11, 2022, Nagpur'},\n",
       " {'title': \"Assam: Lack Of Teachers, Poor Infrastructure Force Kids In 'Char' To Opt For Madrassas Over Formal Schools\",\n",
       "  'details': 'Reported by Press Trust of India | Sunday September 11, 2022'},\n",
       " {'title': 'Xi Jinping To Leave China For First Time In Over 2 Years Amid Covid, Meet Vladimir Putin',\n",
       "  'details': 'Reuters   | Sunday September 11, 2022, Beijing'},\n",
       " {'title': \"Will Soon Launch National Party, Work Is On, Says Telangana's KCR\",\n",
       "  'details': 'Press Trust of India   | Sunday September 11, 2022, Hyderabad'}]"
      ]
     },
     "execution_count": 12,
     "metadata": {},
     "output_type": "execute_result"
    }
   ],
   "source": [
    "data"
   ]
  },
  {
   "cell_type": "code",
   "execution_count": 13,
   "metadata": {},
   "outputs": [
    {
     "name": "stdout",
     "output_type": "stream",
     "text": [
      "President Vladimir Putin on Sunday warned his French counterpart of the potential \"catastrophic consequences\" of what he said were Ukrainian attacks on the Zaporizhzhia nuclear power plant.\n",
      "Delhi government schools recorded an increase of 16 per cent in pass percentage in the CBSE Class 10 compartment examination, an official statement said on Sunday.\n",
      "A laddoo prasad (sacred offering) at a Ganesh pandal in Hyderabad fetched a record Rs 45 lakh in an auction held on Saturday.\n",
      "A three-year-old girl was allegedly raped by a man who kidnapped her while she was asleep in her house at a village in Madhya Pradesh's Katni district on Sunday, police said.\n",
      "The Joint Entrance Examination (JEE Advanced) 2022 result has been declared today, September 11, Tanishka Kabra has secured AIR 16 and topped in the all-India female category.\n",
      "PAK vs SL: Naseem Shah struck in the very first over of the Asia Cup 2022 final with a peach of a delivery that castled Sri Lanka opener Kusal Mendis.\n",
      "Veda Krishnamurthy announced her engagement with her beau and Karnataka batter Arjun Hoysala\n",
      "NCP president Sharad Pawar on Sunday said his party will never surrender before the \"rulers in Delhi\" and urged non-BJP parties to work together to keep the saffron party away from power.\n",
      "'The Falling Man' image is one of the most enduring images of the 9/11 tragedy that saw the Twin Towers of the US World Trade Centre collapse after being struck by hijacked aircraft.\n",
      "A Steve Smith century helped give retiring Australia skipper Aaron Finch a winning send-off Sunday with a 25-run victory in the final one-day international against New Zealand at Cairns\n",
      "The State Common Entrance Test Cell, Maharashtra has declared the Maharastra Common Entrance Test (MAH CET) MCA 2022 result today, September 11.\n",
      "The manager of a leading bank in Ramdaspeth in Nagpur was duped of Rs 40 lakh by a man who posed as a functionary of a firm that had an account with the branch, a police official said on Sunday.\n",
      "Villagers in Darogar Alga char in Assam, now in news over tearing down of a madrasa, said they chose the religious seminaries over formal schooling as the quality of education in single-teacher lower primary institutions here was doubtful.\n",
      "Xi Jinping will leave China this week for the first time in more than two years for a trip to Central Asia where he will meet Vladimir Putin.\n",
      "Ending speculations, Telangana Rashtra Samithi Chief Minister K Chandrashekar Rao on Sunday said he would soon launch a national party and the work is on to formulate policies.\n"
     ]
    }
   ],
   "source": [
    "for news in newslist:\n",
    "    content = news.find('p',attrs={'class':'newsCont'})\n",
    "    if content:\n",
    "        print(content.text)"
   ]
  },
  {
   "cell_type": "code",
   "execution_count": 14,
   "metadata": {},
   "outputs": [],
   "source": [
    "import pandas as pd"
   ]
  },
  {
   "cell_type": "code",
   "execution_count": 15,
   "metadata": {},
   "outputs": [],
   "source": [
    "pd.DataFrame(data).to_csv('headlines.csv')"
   ]
  }
 ],
 "metadata": {
  "kernelspec": {
   "display_name": "Python 3.9.12 ('base')",
   "language": "python",
   "name": "python3"
  },
  "language_info": {
   "codemirror_mode": {
    "name": "ipython",
    "version": 3
   },
   "file_extension": ".py",
   "mimetype": "text/x-python",
   "name": "python",
   "nbconvert_exporter": "python",
   "pygments_lexer": "ipython3",
   "version": "3.9.12"
  },
  "orig_nbformat": 4,
  "vscode": {
   "interpreter": {
    "hash": "3d597f4c481aa0f25dceb95d2a0067e73c0966dcbd003d741d821a7208527ecf"
   }
  }
 },
 "nbformat": 4,
 "nbformat_minor": 2
}
