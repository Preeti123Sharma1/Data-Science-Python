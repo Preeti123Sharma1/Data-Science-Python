{
 "cells": [
  {
   "cell_type": "markdown",
   "metadata": {},
   "source": [
    " ## control\n",
    "conditions - * if (single condition based program)\n",
    "* if else(complete condition based logic)\n",
    "* if elif else(multiple condition based program)\n",
    "loop\n",
    "## we can't use { } for block in python so indentation is introduced\n",
    "## : shows the starting of the block "
   ]
  },
  {
   "cell_type": "markdown",
   "metadata": {},
   "source": [
    "## if \n",
    "if expression :\n",
    "statement 1\n",
    "statement 2\n",
    "statement 3\n",
    ".....\n",
    "statement n"
   ]
  },
  {
   "cell_type": "code",
   "execution_count": 2,
   "metadata": {},
   "outputs": [
    {
     "name": "stdout",
     "output_type": "stream",
     "text": [
      "even\n",
      "the end\n"
     ]
    }
   ],
   "source": [
    "x = 1356\n",
    "if x % 2 == 0:\n",
    "    print(\"even\")\n",
    "print(\"the end\")"
   ]
  },
  {
   "cell_type": "code",
   "execution_count": 6,
   "metadata": {},
   "outputs": [
    {
     "name": "stdout",
     "output_type": "stream",
     "text": [
      "number is numeric so good job dude\n"
     ]
    }
   ],
   "source": [
    "num = input(\"enter a num\")\n",
    "if num.isnumeric():\n",
    "    print(\"number is numeric so good job dude\")\n",
    "else: \n",
    "    print(\"number is not numeric \")"
   ]
  },
  {
   "cell_type": "code",
   "execution_count": 5,
   "metadata": {},
   "outputs": [
    {
     "name": "stdout",
     "output_type": "stream",
     "text": [
      "Bad input\n"
     ]
    }
   ],
   "source": [
    "num = input(\"enter a num\")\n",
    "if num.isnumeric():\n",
    "    print(\"well done\") #this is valid for numeric numbers \n",
    "else: \n",
    "    print(\"Bad input\") #this is valid for not numeric fuction"
   ]
  },
  {
   "cell_type": "code",
   "execution_count": 10,
   "metadata": {},
   "outputs": [
    {
     "name": "stdout",
     "output_type": "stream",
     "text": [
      "Wrong password\n"
     ]
    }
   ],
   "source": [
    "username = input('enter name')\n",
    "email = input('enter email')\n",
    "password = input('enter password')\n",
    "if username == 'john Cena':\n",
    "    if email = 'john@gmail.com':\n",
    "        if password == \"abcd\":\n",
    "            print(\"welcome to WWF\")\n",
    "        else:\n",
    "            print(\"Wrong password\")\n",
    "    else:\n",
    "        print(\"Wrong email\")\n",
    "else: \n",
    "    print(\"Wrong username\")        \n"
   ]
  },
  {
   "cell_type": "code",
   "execution_count": 14,
   "metadata": {},
   "outputs": [
    {
     "name": "stdout",
     "output_type": "stream",
     "text": [
      "worng username\n"
     ]
    }
   ],
   "source": [
    "username = input('enter name')\n",
    "email = input('enter email')\n",
    "password = input('enter password')\n",
    "if username != 'john Cena':\n",
    "    print(\"worng username\")\n",
    "elif password != 'abcd' :\n",
    "    print(\"wrong password\")  \n",
    "elif email != 'john@gmail.com' :  \n",
    "    print(\"wrong email\")"
   ]
  },
  {
   "cell_type": "markdown",
   "metadata": {},
   "source": [
    "# WAP to calculate grade of student "
   ]
  },
  {
   "cell_type": "code",
   "execution_count": 1,
   "metadata": {},
   "outputs": [],
   "source": [
    "marks = input(\"Enter the marks: \")\n",
    "if not marks.isnumeric():\n",
    "    print(\"invalid\")\n",
    "    if marks >= 90:\n",
    "        print(\"grade is A\")\n",
    "    elif marks >= 80:\n",
    "        print(\"grade is B\")\n",
    "    elif marks >= 70:\n",
    "        print(\"grade C\")\n",
    "    elif marks >= 60:\n",
    "        print(\"grade is D\")\n",
    "    elif marks < 60:\n",
    "        print(\"grade F\")              "
   ]
  },
  {
   "cell_type": "code",
   "execution_count": null,
   "metadata": {},
   "outputs": [],
   "source": []
  }
 ],
 "metadata": {
  "kernelspec": {
   "display_name": "Python 3.8.9 64-bit",
   "language": "python",
   "name": "python3"
  },
  "language_info": {
   "codemirror_mode": {
    "name": "ipython",
    "version": 3
   },
   "file_extension": ".py",
   "mimetype": "text/x-python",
   "name": "python",
   "nbconvert_exporter": "python",
   "pygments_lexer": "ipython3",
   "version": "3.8.9"
  },
  "orig_nbformat": 4,
  "vscode": {
   "interpreter": {
    "hash": "31f2aee4e71d21fbe5cf8b01ff0e069b9275f58929596ceb00d14d90e3e16cd6"
   }
  }
 },
 "nbformat": 4,
 "nbformat_minor": 2
}
