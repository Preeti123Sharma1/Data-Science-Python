{
 "cells": [
  {
   "cell_type": "markdown",
   "metadata": {},
   "source": [
    "## List\n",
    "\n",
    "List can be created by the uses of [] brackets with values inside it separated with commas."
   ]
  },
  {
   "cell_type": "markdown",
   "metadata": {},
   "source": [
    "In the list there are 11 functions.\n",
    "* count() - Returns the number of items with the sepecified value.\n",
    "* index() - Returns the indexof the first element with the specified value.\n",
    "* copy()  - Returns a copy of the list.\n",
    "* clear() - Removes all the elements from the list.\n",
    "* pop()   - Removes the element at the specified position."
   ]
  },
  {
   "cell_type": "code",
   "execution_count": 1,
   "metadata": {},
   "outputs": [],
   "source": [
    "# List of strings\n",
    "list1 = [\"Rafat\", \"Nidhi\",\"Harshita\",\"Sakshi\",\"Khushi\"]\n",
    "\n",
    "#list of Numbers\n",
    "list2 = [1,2,3,4,5,9,18,48,100]\n",
    "\n",
    "# Mixed data list\n",
    "list3 = ['Ravi' ,90,49,88,80,44,\"B\",False,5.789]\n",
    "\n",
    "# Nested List\n",
    "list4 = [[1,2,3],[3,4,5,6],[5,3]]"
   ]
  },
  {
   "cell_type": "code",
   "execution_count": 2,
   "metadata": {},
   "outputs": [
    {
     "name": "stdout",
     "output_type": "stream",
     "text": [
      "list1[0]= 2\n",
      "list1[2]= 6\n",
      "list1[-1]= C,20\n",
      "list1[-3]= B\n"
     ]
    }
   ],
   "source": [
    "# Accessing ;ist items in python-\n",
    "list1 = [2,3,6,'A',10,'B',16,'C,20']\n",
    "\n",
    "# First Item-\n",
    "print('list1[0]=',list1[0])\n",
    "\n",
    "# third item-\n",
    "print('list1[2]=',list1[2])\n",
    "\n",
    "# Last Item-\n",
    "print('list1[-1]=',list1[-1])\n",
    "\n",
    "# Last third item-\n",
    "print('list1[-3]=',list1[-3])"
   ]
  },
  {
   "cell_type": "code",
   "execution_count": 3,
   "metadata": {},
   "outputs": [
    {
     "name": "stdout",
     "output_type": "stream",
     "text": [
      "[40, 50, 60, 70, 80]\n"
     ]
    }
   ],
   "source": [
    "# Getting a list slice-\n",
    "\n",
    "l = [10,20,30,40,50,60,70,80,90,100]\n",
    "slice1 = l[3:-2]\n",
    "print(slice1)"
   ]
  },
  {
   "cell_type": "code",
   "execution_count": 4,
   "metadata": {},
   "outputs": [
    {
     "name": "stdout",
     "output_type": "stream",
     "text": [
      "The list from 0 to 4 = [10, 20, 30, 40]\n",
      "[10, 20, 30, 40, 50, 60, 70, 80]\n"
     ]
    }
   ],
   "source": [
    "# Getting a list slice-\n",
    "\n",
    "l = [10,20,30,40,50,60,70,80,90,100]\n",
    "print('The list from 0 to 4 =' ,l[:4])\n",
    "slice1 = l[:8]\n",
    "print(slice1)"
   ]
  },
  {
   "cell_type": "code",
   "execution_count": 5,
   "metadata": {},
   "outputs": [],
   "source": [
    "books =[\n",
    "    'legion',\n",
    "    'legion: Skin Deep',\n",
    "    'the final',\n",
    "    'bangel seller',\n",
    "    'daffodils',\n",
    "    'Oathbringer'\n",
    "\n",
    "]"
   ]
  },
  {
   "cell_type": "code",
   "execution_count": 6,
   "metadata": {},
   "outputs": [
    {
     "data": {
      "text/plain": [
       "['legion', 'legion: Skin Deep', 'the final']"
      ]
     },
     "execution_count": 6,
     "metadata": {},
     "output_type": "execute_result"
    }
   ],
   "source": [
    "books[:3] # first 3 books"
   ]
  },
  {
   "cell_type": "code",
   "execution_count": 7,
   "metadata": {},
   "outputs": [
    {
     "data": {
      "text/plain": [
       "['bangel seller']"
      ]
     },
     "execution_count": 7,
     "metadata": {},
     "output_type": "execute_result"
    }
   ],
   "source": [
    "books[3:4] # all except firts 3 and last 4 books"
   ]
  },
  {
   "cell_type": "code",
   "execution_count": 8,
   "metadata": {},
   "outputs": [
    {
     "name": "stdout",
     "output_type": "stream",
     "text": [
      "fruits =  ['Apple', 'Banana', 'Cherry', 'Guava']\n"
     ]
    }
   ],
   "source": [
    "# Append Function \n",
    "\n",
    "fruits = []\n",
    "fruits.append('Apple')\n",
    "fruits.append('Banana')\n",
    "fruits.append('Cherry')\n",
    "fruits.append('Guava')\n",
    "print(\"fruits = \", fruits)"
   ]
  },
  {
   "cell_type": "code",
   "execution_count": 9,
   "metadata": {},
   "outputs": [
    {
     "name": "stdout",
     "output_type": "stream",
     "text": [
      "['legion', 'legion: Skin Deep', 'the final', 'bangel seller', 'daffodils', 'Oathbringer', 'Firefight', 'Rythm of war']\n"
     ]
    }
   ],
   "source": [
    "books.append('Firefight')\n",
    "books.append('Rythm of war')\n",
    "print(books)"
   ]
  },
  {
   "cell_type": "code",
   "execution_count": 10,
   "metadata": {},
   "outputs": [
    {
     "name": "stdout",
     "output_type": "stream",
     "text": [
      "['apple', 'orange', 'banana', 'cherry']\n"
     ]
    }
   ],
   "source": [
    "# Insert Function- (insert and append work same)\n",
    "\n",
    "fruits = ['apple', 'banana', 'cherry']\n",
    "fruits.insert(1,\"orange\")\n",
    "print(fruits)"
   ]
  },
  {
   "cell_type": "code",
   "execution_count": 11,
   "metadata": {},
   "outputs": [
    {
     "name": "stdout",
     "output_type": "stream",
     "text": [
      "['legion', 'legion: Skin Deep', 'the final', 'bangel seller', 'daffodils', 'Oathbringer', 'The  hero of ages', 'Firefight', 'Rythm of war']\n"
     ]
    }
   ],
   "source": [
    "books.insert(6,'The  hero of ages')\n",
    "print(books)"
   ]
  },
  {
   "cell_type": "code",
   "execution_count": 12,
   "metadata": {},
   "outputs": [],
   "source": [
    "books.insert(100,'Nightblood') #unfeasible index, will be added to the end of the list"
   ]
  },
  {
   "cell_type": "code",
   "execution_count": 13,
   "metadata": {},
   "outputs": [
    {
     "name": "stdout",
     "output_type": "stream",
     "text": [
      "['apple', 'banana', 'cherry', 'almond', 'cashew', 'walnut']\n"
     ]
    }
   ],
   "source": [
    "# Extend function-  (use for add two lists)\n",
    "\n",
    "fruits = ['apple', 'banana', 'cherry']\n",
    "dry_fruits = ['almond', 'cashew', 'walnut']\n",
    "fruits.extend(dry_fruits)\n",
    "print(fruits)"
   ]
  },
  {
   "cell_type": "code",
   "execution_count": 14,
   "metadata": {},
   "outputs": [
    {
     "name": "stdout",
     "output_type": "stream",
     "text": [
      "['Guava', 'apple', 'banana', 'cherry']\n"
     ]
    }
   ],
   "source": [
    "# Sort function -\n",
    "\n",
    "fruits = ['Guava','apple', 'banana', 'cherry'] #sortings are always alphabeticals\n",
    "fruits.sort()\n",
    "print(fruits)"
   ]
  },
  {
   "cell_type": "code",
   "execution_count": 15,
   "metadata": {},
   "outputs": [
    {
     "name": "stdout",
     "output_type": "stream",
     "text": [
      "['the final', 'legion: Skin Deep', 'legion', 'daffodils', 'bangel seller', 'The  hero of ages', 'Rythm of war', 'Oathbringer', 'Nightblood', 'Firefight']\n"
     ]
    }
   ],
   "source": [
    "books.sort(reverse=True)\n",
    "print(books)"
   ]
  },
  {
   "cell_type": "code",
   "execution_count": 16,
   "metadata": {},
   "outputs": [
    {
     "name": "stdout",
     "output_type": "stream",
     "text": [
      "[1, 1, 1, 2, 2, 2, 2, 2, 2, 3, 3, 5, 5, 5, 11]\n"
     ]
    }
   ],
   "source": [
    "x = [1,2,2,3,3,2,2,2,2,5,5,5,11,1,1]\n",
    "x.sort()\n",
    "print(x)"
   ]
  },
  {
   "cell_type": "code",
   "execution_count": 17,
   "metadata": {},
   "outputs": [
    {
     "name": "stdout",
     "output_type": "stream",
     "text": [
      "[1, 1, 2, 2, 2, 2, 2, 2, 3, 3, 5, 5, 5, 11]\n"
     ]
    }
   ],
   "source": [
    "# Remove always remove one item at a time.\n",
    "\n",
    "if 1 in x:\n",
    "    x.remove(1)\n",
    "    print(x)\n",
    "    if 4 in x:\n",
    "        x.remove(4)\n",
    "        print(x)"
   ]
  },
  {
   "cell_type": "code",
   "execution_count": 18,
   "metadata": {},
   "outputs": [],
   "source": [
    "x.remove(3) if 3 in x else print('not found')"
   ]
  },
  {
   "cell_type": "code",
   "execution_count": 19,
   "metadata": {},
   "outputs": [
    {
     "name": "stdout",
     "output_type": "stream",
     "text": [
      "[1, 1, 2, 2, 2, 2, 2, 2, 3, 5, 5, 5, 11]\n"
     ]
    }
   ],
   "source": [
    "print(x)"
   ]
  },
  {
   "cell_type": "code",
   "execution_count": 20,
   "metadata": {},
   "outputs": [
    {
     "name": "stdout",
     "output_type": "stream",
     "text": [
      "['Firefight', 'Nightblood', 'Oathbringer', 'Rythm of war', 'The  hero of ages', 'bangel seller', 'daffodils', 'legion', 'legion: Skin Deep', 'the final']\n"
     ]
    }
   ],
   "source": [
    "books.reverse()  #reverse the list\n",
    "print(books)"
   ]
  },
  {
   "cell_type": "code",
   "execution_count": 21,
   "metadata": {},
   "outputs": [
    {
     "data": {
      "text/plain": [
       "['the final',\n",
       " 'legion: Skin Deep',\n",
       " 'legion',\n",
       " 'daffodils',\n",
       " 'bangel seller',\n",
       " 'The  hero of ages',\n",
       " 'Rythm of war',\n",
       " 'Oathbringer',\n",
       " 'Nightblood',\n",
       " 'Firefight']"
      ]
     },
     "execution_count": 21,
     "metadata": {},
     "output_type": "execute_result"
    }
   ],
   "source": [
    "books[::-1] # reverse the list"
   ]
  },
  {
   "cell_type": "code",
   "execution_count": 22,
   "metadata": {},
   "outputs": [
    {
     "data": {
      "text/plain": [
       "6"
      ]
     },
     "execution_count": 22,
     "metadata": {},
     "output_type": "execute_result"
    }
   ],
   "source": [
    "# Count Function -\n",
    "\n",
    "x = [1,2,3,4,5,6,45,1,1,1,2,2,3,3,3,2,2,1,1,87,99]\n",
    "x.count(1)"
   ]
  },
  {
   "cell_type": "code",
   "execution_count": 23,
   "metadata": {},
   "outputs": [
    {
     "data": {
      "text/plain": [
       "4"
      ]
     },
     "execution_count": 23,
     "metadata": {},
     "output_type": "execute_result"
    }
   ],
   "source": [
    "# Index function-\n",
    "\n",
    "movies = [\n",
    "    'Nightblood',\n",
    "    'The  hero of ages',\n",
    "    'bangel seller', \n",
    "    'daffodils', \n",
    "    'legion', \n",
    "    'legion: Skin Deep', \n",
    "    'the final']\n",
    "movies.index('legion')"
   ]
  },
  {
   "cell_type": "code",
   "execution_count": 24,
   "metadata": {},
   "outputs": [
    {
     "data": {
      "text/plain": [
       "10"
      ]
     },
     "execution_count": 24,
     "metadata": {},
     "output_type": "execute_result"
    }
   ],
   "source": [
    "len(books)"
   ]
  },
  {
   "cell_type": "code",
   "execution_count": 25,
   "metadata": {},
   "outputs": [
    {
     "name": "stdout",
     "output_type": "stream",
     "text": [
      "2\n"
     ]
    },
    {
     "data": {
      "text/plain": [
       "['Oathbringer',\n",
       " 'Rythm of war',\n",
       " 'The  hero of ages',\n",
       " 'bangel seller',\n",
       " 'daffodils',\n",
       " 'legion',\n",
       " 'legion: Skin Deep',\n",
       " 'the final']"
      ]
     },
     "execution_count": 25,
     "metadata": {},
     "output_type": "execute_result"
    }
   ],
   "source": [
    "oathidx = books.index('Oathbringer')\n",
    "print(oathidx)\n",
    "books[oathidx:]"
   ]
  },
  {
   "cell_type": "code",
   "execution_count": 26,
   "metadata": {},
   "outputs": [
    {
     "data": {
      "text/plain": [
       "['Oathbringer',\n",
       " 'Rythm of war',\n",
       " 'The  hero of ages',\n",
       " 'bangel seller',\n",
       " 'daffodils',\n",
       " 'legion',\n",
       " 'legion: Skin Deep',\n",
       " 'the final']"
      ]
     },
     "execution_count": 26,
     "metadata": {},
     "output_type": "execute_result"
    }
   ],
   "source": [
    "books[books.index('Oathbringer'): ]"
   ]
  },
  {
   "cell_type": "code",
   "execution_count": 27,
   "metadata": {},
   "outputs": [
    {
     "name": "stdout",
     "output_type": "stream",
     "text": [
      "['cherry', 'guava', 'mango', 'apple']\n"
     ]
    }
   ],
   "source": [
    "## Copy function-\n",
    "\n",
    "fruits = ['cherry','guava','mango','apple']\n",
    "dup_fruits = fruits.copy()\n",
    "print(dup_fruits)"
   ]
  },
  {
   "cell_type": "code",
   "execution_count": 28,
   "metadata": {},
   "outputs": [
    {
     "name": "stdout",
     "output_type": "stream",
     "text": [
      "[]\n"
     ]
    }
   ],
   "source": [
    "## Clear function- (clear function use for clear all the items in tha list)\n",
    "\n",
    "fruits = ['cherry','guava','mango','apple']\n",
    "fruits.clear()\n",
    "print(fruits)"
   ]
  },
  {
   "cell_type": "code",
   "execution_count": 29,
   "metadata": {},
   "outputs": [
    {
     "name": "stdout",
     "output_type": "stream",
     "text": [
      "apple\n"
     ]
    }
   ],
   "source": [
    "## pop function- (it is pop the last value of the list)\n",
    "\n",
    "# By list.pop() method-\n",
    "fruits = ['cherry','guava','mango','apple']\n",
    "v = fruits.pop()\n",
    "print(v)\n"
   ]
  },
  {
   "cell_type": "code",
   "execution_count": 30,
   "metadata": {},
   "outputs": [
    {
     "name": "stdout",
     "output_type": "stream",
     "text": [
      "mango\n"
     ]
    }
   ],
   "source": [
    "# By list.pop(idx) method-\n",
    "\n",
    "fruits = ['cherry','guava','mango','apple']\n",
    "v = fruits.pop(2)\n",
    "print(v)"
   ]
  },
  {
   "cell_type": "markdown",
   "metadata": {},
   "source": [
    "## WAP to create list of 5 values given by the user"
   ]
  },
  {
   "cell_type": "code",
   "execution_count": 31,
   "metadata": {},
   "outputs": [
    {
     "name": "stdout",
     "output_type": "stream",
     "text": [
      "['33', '44', '55', '56', '77']\n"
     ]
    }
   ],
   "source": [
    "ex = []\n",
    "for i in range(5):\n",
    "    val = input(f'enter 5 integers {i+1}: ')\n",
    "    ex.append(val)\n",
    "print(ex)\n"
   ]
  },
  {
   "cell_type": "markdown",
   "metadata": {},
   "source": [
    "WAP to display sum of a list"
   ]
  },
  {
   "cell_type": "code",
   "execution_count": 32,
   "metadata": {},
   "outputs": [
    {
     "name": "stdout",
     "output_type": "stream",
     "text": [
      "23\n",
      "66\n",
      "119\n",
      "204\n",
      "290\n",
      "387\n",
      "461\n"
     ]
    }
   ],
   "source": [
    "data = [23,43,53,85,86,97,74]\n",
    "total = 0\n",
    "for i in data:\n",
    "    total += i\n",
    "    print(total)"
   ]
  },
  {
   "cell_type": "code",
   "execution_count": 33,
   "metadata": {},
   "outputs": [
    {
     "name": "stdout",
     "output_type": "stream",
     "text": [
      "461\n"
     ]
    }
   ],
   "source": [
    "data = [23,43,53,85,86,97,74]\n",
    "total = 0\n",
    "for i in data:\n",
    "    total += i\n",
    "print(total)"
   ]
  },
  {
   "cell_type": "code",
   "execution_count": 34,
   "metadata": {},
   "outputs": [
    {
     "name": "stdout",
     "output_type": "stream",
     "text": [
      "55.0\n"
     ]
    }
   ],
   "source": [
    "# Mean\n",
    "\n",
    "terms = [10,20,30,40,50,60,70,80,90,100]\n",
    "add = 0\n",
    "\n",
    "for i in terms:\n",
    "    add = add + i\n",
    "    mean = add/len(terms)\n",
    "    \n",
    "\n",
    "print(mean)\n",
    "\n"
   ]
  },
  {
   "cell_type": "code",
   "execution_count": 35,
   "metadata": {},
   "outputs": [
    {
     "name": "stdout",
     "output_type": "stream",
     "text": [
      "55.0\n",
      "55.0\n",
      "10\n",
      "100\n"
     ]
    }
   ],
   "source": [
    "\n",
    "\n",
    "x = [10,20,30,40,50,60,70,80,90,100]\n",
    "\n",
    "#mean\n",
    "mean = sum(x)/len(x)\n",
    "print(mean)\n",
    "\n",
    "# median\n",
    "x.sort()\n",
    "if len(x)%2 == 0:\n",
    "    median = (x[len(x)//2] + x[len(x)//2 - 1])/2\n",
    "else:\n",
    "    median = x[len(x)//2]\n",
    "print(median)        \n",
    "\n",
    "# min\n",
    "print(min(x))\n",
    "\n",
    "# max\n",
    "print(max(x))"
   ]
  },
  {
   "cell_type": "code",
   "execution_count": 36,
   "metadata": {},
   "outputs": [
    {
     "name": "stdout",
     "output_type": "stream",
     "text": [
      "55.0\n"
     ]
    }
   ],
   "source": [
    "# median\n",
    "x.sort()\n",
    "if len(x)%2 == 0:\n",
    "    median = (x[len(x)//2] + x[len(x)//2 - 1])/2\n",
    "else:\n",
    "    median = x[len(x)//2]\n",
    "print(median)     "
   ]
  },
  {
   "cell_type": "code",
   "execution_count": 37,
   "metadata": {},
   "outputs": [
    {
     "name": "stdout",
     "output_type": "stream",
     "text": [
      "[4, 4, 4]\n"
     ]
    }
   ],
   "source": [
    "# add 2 list together element wise and produce a new list.\n",
    "a1 = [1,2,3]\n",
    "b1 = [3,2,1]\n",
    "n1 =[]\n",
    "for i,j in zip(a1,b1):       #zip function is include two or more than two functions\n",
    "    n1.append(i+j)\n",
    "print(n1)"
   ]
  },
  {
   "cell_type": "code",
   "execution_count": 38,
   "metadata": {},
   "outputs": [
    {
     "name": "stdout",
     "output_type": "stream",
     "text": [
      "[2, 3, 4, 5, 6, 7, 8, 9, 10]\n",
      "[4, 9, 16, 25, 36, 49, 64, 81, 100]\n"
     ]
    }
   ],
   "source": [
    "# create a list where every element is a sqr of elemnets from an existing list.\n",
    "x = [2,3,4,5,6,7,8,9,10] \n",
    "x2 = []\n",
    "for i in x:\n",
    "    x2.append(i**2)\n",
    "print(x)\n",
    "print(x2)    "
   ]
  },
  {
   "cell_type": "code",
   "execution_count": 39,
   "metadata": {},
   "outputs": [
    {
     "name": "stdout",
     "output_type": "stream",
     "text": [
      "[1, 2, 3, 4, 5, 6, 7, 8, 9, 10]\n",
      "[1, 9, 25, 49, 81]\n"
     ]
    }
   ],
   "source": [
    "# create a list where every odd element is a sqr of elements from an existing list. \n",
    "\n",
    "x=[1,2,3,4,5,6,7,8,9,10]\n",
    "x2 = []                    #OR x2 =[i**2 for i in x if i%2!=0]\n",
    "for i in x:\n",
    "    if (i%2 != 0):\n",
    "        x2.append(i**2)\n",
    "print(x)\n",
    "print(x2)    "
   ]
  },
  {
   "cell_type": "code",
   "execution_count": 40,
   "metadata": {},
   "outputs": [
    {
     "name": "stdout",
     "output_type": "stream",
     "text": [
      "['US', 'PM', 'SE', 'DA', 'SSE', 'DA', 'DS', 'DE']\n"
     ]
    }
   ],
   "source": [
    "# create a abbrviation list from an exiting list of words. \n",
    "\n",
    "words = ['United State','Project Manager','Software Engineer','Data Analysis',\n",
    "        'Senior Software Engineer','Data Analysis','Data Scientist','Data Engineer']\n",
    "abbrs = []\n",
    "for i in words:\n",
    "    i = i.split()\n",
    "    ans =''\n",
    "    for j in i:\n",
    "        ans+= j[0]\n",
    "    abbrs.append(ans)\n",
    "print(abbrs)        \n"
   ]
  },
  {
   "cell_type": "code",
   "execution_count": 41,
   "metadata": {},
   "outputs": [
    {
     "name": "stdout",
     "output_type": "stream",
     "text": [
      "34\n",
      "[34]\n",
      "[39304]\n"
     ]
    }
   ],
   "source": [
    "''' take  a list from user in one line of input and then remove all the non numeric values from the list then \n",
    "display the cubes of numbers from that list. '''\n",
    "\n",
    "entries = input('enter data seperated with space: ')\n",
    "print(entries)\n",
    "\n",
    "'''numeric_entries = []\n",
    "for value in entries.split():\n",
    "    if value.isnumeric():\n",
    "        numeric_entries.append(int(value))''' \n",
    "numeric_entries = [int(value) for value in entries.split() if value.isnumeric() ]        \n",
    "print(numeric_entries)    \n",
    "\n",
    "cube = [i**3 for i in numeric_entries ]\n",
    "\n",
    "print(cube)"
   ]
  },
  {
   "cell_type": "markdown",
   "metadata": {},
   "source": [
    "# list comprehension \n",
    "is a way to create a list from existing list\n",
    "using one line of expression\n",
    "- syntax\n",
    "\n",
    "newlist = [expression for item in the oldlist]\n",
    "- with condition syntax\n",
    "\n",
    "newlist = [expression for item in oldlist if condition]"
   ]
  },
  {
   "cell_type": "markdown",
   "metadata": {},
   "source": []
  }
 ],
 "metadata": {
  "kernelspec": {
   "display_name": "Python 3.9.12 ('base')",
   "language": "python",
   "name": "python3"
  },
  "language_info": {
   "codemirror_mode": {
    "name": "ipython",
    "version": 3
   },
   "file_extension": ".py",
   "mimetype": "text/x-python",
   "name": "python",
   "nbconvert_exporter": "python",
   "pygments_lexer": "ipython3",
   "version": "3.9.12"
  },
  "orig_nbformat": 4,
  "vscode": {
   "interpreter": {
    "hash": "3d597f4c481aa0f25dceb95d2a0067e73c0966dcbd003d741d821a7208527ecf"
   }
  }
 },
 "nbformat": 4,
 "nbformat_minor": 2
}
