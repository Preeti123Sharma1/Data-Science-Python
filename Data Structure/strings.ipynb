{
 "cells": [
  {
   "cell_type": "code",
   "execution_count": 24,
   "metadata": {},
   "outputs": [],
   "source": [
    "name = \"Alex Mason\"\n",
    "age = 50\n",
    "items = ['Apple', 'Banana', 'Cherry']"
   ]
  },
  {
   "cell_type": "markdown",
   "metadata": {},
   "source": [
    "## formatting functions"
   ]
  },
  {
   "cell_type": "code",
   "execution_count": 25,
   "metadata": {},
   "outputs": [],
   "source": [
    "msg = 'This is A message from very important person'"
   ]
  },
  {
   "cell_type": "code",
   "execution_count": 26,
   "metadata": {},
   "outputs": [
    {
     "name": "stdout",
     "output_type": "stream",
     "text": [
      "all message capital size =>             THIS IS A MESSAGE FROM VERY IMPORTANT PERSON\n",
      "all message small letters size =>       this is a message from very important person\n",
      "first letter of all word is capital =>  This Is A Message From Very Important Person\n",
      "first letter of message is capital =>   This is a message from very important person\n",
      "all message small letters size =>       this is a message from very important person\n",
      "first letter of message is small =>     tHIS IS a MESSAGE FROM VERY IMPORTANT PERSON\n",
      "original message =>                     This is A message from very important person\n"
     ]
    }
   ],
   "source": [
    "print('all message capital size =>            ',msg.upper())\n",
    "print('all message small letters size =>      ',msg.lower())\n",
    "print('first letter of all word is capital => ',msg.title())\n",
    "print(\"first letter of message is capital =>  \",msg.capitalize())\n",
    "print('all message small letters size =>      ',msg.casefold())\n",
    "print('first letter of message is small =>    ',msg.swapcase())\n",
    "print('original message =>                    ',msg)"
   ]
  },
  {
   "cell_type": "code",
   "execution_count": 27,
   "metadata": {},
   "outputs": [
    {
     "data": {
      "text/plain": [
       "44"
      ]
     },
     "execution_count": 27,
     "metadata": {},
     "output_type": "execute_result"
    }
   ],
   "source": [
    "len(msg)"
   ]
  },
  {
   "cell_type": "code",
   "execution_count": 28,
   "metadata": {},
   "outputs": [
    {
     "name": "stdout",
     "output_type": "stream",
     "text": [
      "This is A message from very important person\n"
     ]
    }
   ],
   "source": [
    "print(msg)"
   ]
  },
  {
   "cell_type": "code",
   "execution_count": 29,
   "metadata": {},
   "outputs": [
    {
     "name": "stdout",
     "output_type": "stream",
     "text": [
      "This is A message from very important person\n"
     ]
    }
   ],
   "source": [
    "print(msg.ljust(20))"
   ]
  },
  {
   "cell_type": "code",
   "execution_count": 30,
   "metadata": {},
   "outputs": [
    {
     "name": "stdout",
     "output_type": "stream",
     "text": [
      "                                              This is A message from very important person\n"
     ]
    }
   ],
   "source": [
    "print(msg.rjust(90))"
   ]
  },
  {
   "cell_type": "code",
   "execution_count": 31,
   "metadata": {},
   "outputs": [
    {
     "name": "stdout",
     "output_type": "stream",
     "text": [
      "                  This is A message from very important person                  \n"
     ]
    }
   ],
   "source": [
    "print(msg.center(80))"
   ]
  },
  {
   "cell_type": "code",
   "execution_count": 32,
   "metadata": {},
   "outputs": [],
   "source": [
    "long_msg=''' \n",
    "A standalone source code editor that runs on Windows,\n",
    "macOS, and Linux.\n",
    "The top pick for JavaScript and web developers,\n",
    "with extensions to support \n",
    "just about any programming language.\n",
    "'''"
   ]
  },
  {
   "cell_type": "code",
   "execution_count": 33,
   "metadata": {},
   "outputs": [
    {
     "data": {
      "text/plain": [
       "' \\nA standalone source code editor that runs on Windows,\\nmacOS, and Linux.\\nThe top pick for JavaScript and web developers,\\nwith extensions to support \\njust about any programming language.\\n'"
      ]
     },
     "execution_count": 33,
     "metadata": {},
     "output_type": "execute_result"
    }
   ],
   "source": [
    "long_msg"
   ]
  },
  {
   "cell_type": "code",
   "execution_count": 34,
   "metadata": {},
   "outputs": [
    {
     "name": "stdout",
     "output_type": "stream",
     "text": [
      "                                                                                                                                  \n",
      "                                      A standalone source code editor that runs on Windows,                                       \n",
      "                                                        macOS, and Linux.                                                         \n",
      "                                         The top pick for JavaScript and web developers,                                          \n",
      "                                                   with extensions to support                                                     \n",
      "                                               just about any programming language.                                               \n",
      "                                                                                                                                  \n"
     ]
    }
   ],
   "source": [
    "for line in long_msg.split('\\n'):\n",
    "    print(line.center(130))"
   ]
  },
  {
   "cell_type": "code",
   "execution_count": 35,
   "metadata": {},
   "outputs": [
    {
     "data": {
      "text/plain": [
       "['This', 'is', 'A', 'message', 'from', 'very', 'important', 'person']"
      ]
     },
     "execution_count": 35,
     "metadata": {},
     "output_type": "execute_result"
    }
   ],
   "source": [
    "msg.split()"
   ]
  },
  {
   "cell_type": "code",
   "execution_count": 36,
   "metadata": {},
   "outputs": [
    {
     "data": {
      "text/plain": [
       "['A',\n",
       " 'standalone',\n",
       " 'source',\n",
       " 'code',\n",
       " 'editor',\n",
       " 'that',\n",
       " 'runs',\n",
       " 'on',\n",
       " 'Windows,',\n",
       " 'macOS,',\n",
       " 'and',\n",
       " 'Linux.',\n",
       " 'The',\n",
       " 'top',\n",
       " 'pick',\n",
       " 'for',\n",
       " 'JavaScript',\n",
       " 'and',\n",
       " 'web',\n",
       " 'developers,',\n",
       " 'with',\n",
       " 'extensions',\n",
       " 'to',\n",
       " 'support',\n",
       " 'just',\n",
       " 'about',\n",
       " 'any',\n",
       " 'programming',\n",
       " 'language.']"
      ]
     },
     "execution_count": 36,
     "metadata": {},
     "output_type": "execute_result"
    }
   ],
   "source": [
    "long_msg.split()"
   ]
  },
  {
   "cell_type": "code",
   "execution_count": 37,
   "metadata": {},
   "outputs": [
    {
     "data": {
      "text/plain": [
       "[' ',\n",
       " 'A standalone source code editor that runs on Windows,',\n",
       " 'macOS, and Linux.',\n",
       " 'The top pick for JavaScript and web developers,',\n",
       " 'with extensions to support ',\n",
       " 'just about any programming language.',\n",
       " '']"
      ]
     },
     "execution_count": 37,
     "metadata": {},
     "output_type": "execute_result"
    }
   ],
   "source": [
    "long_msg.split('\\n')"
   ]
  },
  {
   "cell_type": "code",
   "execution_count": 38,
   "metadata": {},
   "outputs": [
    {
     "data": {
      "text/plain": [
       "['This', 'is', 'A', 'message', 'from', 'very', 'important person']"
      ]
     },
     "execution_count": 38,
     "metadata": {},
     "output_type": "execute_result"
    }
   ],
   "source": [
    "msg.split(maxsplit=6)"
   ]
  },
  {
   "cell_type": "code",
   "execution_count": 39,
   "metadata": {},
   "outputs": [
    {
     "data": {
      "text/plain": [
       "['This is A message from', 'very', 'important', 'person']"
      ]
     },
     "execution_count": 39,
     "metadata": {},
     "output_type": "execute_result"
    }
   ],
   "source": [
    "msg.rsplit(maxsplit=3)"
   ]
  },
  {
   "cell_type": "code",
   "execution_count": 40,
   "metadata": {},
   "outputs": [
    {
     "name": "stdout",
     "output_type": "stream",
     "text": [
      "6 preeti\n",
      "6 preeti\n"
     ]
    }
   ],
   "source": [
    "name = input('What is your name? ')\n",
    "print(len(name), name)\n",
    "name = name.strip()\n",
    "print(len(name), name)"
   ]
  },
  {
   "cell_type": "code",
   "execution_count": 41,
   "metadata": {},
   "outputs": [
    {
     "name": "stdout",
     "output_type": "stream",
     "text": [
      "187\n",
      "184\n"
     ]
    }
   ],
   "source": [
    "print(len(long_msg))\n",
    "long_msg=long_msg.strip()\n",
    "print(len(long_msg))"
   ]
  },
  {
   "cell_type": "code",
   "execution_count": 42,
   "metadata": {},
   "outputs": [
    {
     "data": {
      "text/plain": [
       "'OLA'"
      ]
     },
     "execution_count": 42,
     "metadata": {},
     "output_type": "execute_result"
    }
   ],
   "source": [
    "data = \"00000000000OLA0000000\"\n",
    "data.strip('0')"
   ]
  },
  {
   "cell_type": "code",
   "execution_count": 43,
   "metadata": {},
   "outputs": [
    {
     "data": {
      "text/plain": [
       "'this is---- not ------ good'"
      ]
     },
     "execution_count": 43,
     "metadata": {},
     "output_type": "execute_result"
    }
   ],
   "source": [
    "data ='---------------this is---- not ------ good-------'\n",
    "data.strip('-')"
   ]
  },
  {
   "cell_type": "code",
   "execution_count": 44,
   "metadata": {},
   "outputs": [
    {
     "name": "stdout",
     "output_type": "stream",
     "text": [
      "this is---- not ------ good\n",
      "this is---- not ------ good-------\n",
      "---------------this is---- not ------ good\n"
     ]
    }
   ],
   "source": [
    "print(data.strip('-'))\n",
    "print(data.lstrip('-'))\n",
    "print(data.rstrip('-'))"
   ]
  },
  {
   "cell_type": "code",
   "execution_count": 45,
   "metadata": {},
   "outputs": [
    {
     "name": "stdout",
     "output_type": "stream",
     "text": [
      "A standalone source code editor that runs on Windows,\n",
      "macOS, and Linux.\n",
      "The top pick for JavaScript and web developers,\n",
      "with extensions to support \n",
      "just about any programming language.\n",
      "updated------------->\n",
      "A standalone source code edotor that runs on Wondows,\n",
      "macOS, and Lonux.\n",
      "The top pock for JavaScropt and web developers,\n",
      "woth extensoons to support \n",
      "just about any programmong language.\n"
     ]
    }
   ],
   "source": [
    "print(long_msg)\n",
    "print('updated------------->')\n",
    "print(long_msg.replace('i','o'))"
   ]
  },
  {
   "cell_type": "code",
   "execution_count": 46,
   "metadata": {},
   "outputs": [
    {
     "name": "stdout",
     "output_type": "stream",
     "text": [
      "this is not  good\n"
     ]
    }
   ],
   "source": [
    "data_clean = data.replace('-','')\n",
    "print(data_clean)"
   ]
  },
  {
   "cell_type": "code",
   "execution_count": 47,
   "metadata": {},
   "outputs": [
    {
     "name": "stdout",
     "output_type": "stream",
     "text": [
      "13\n"
     ]
    }
   ],
   "source": [
    "print(long_msg.count('a'))"
   ]
  },
  {
   "cell_type": "code",
   "execution_count": 48,
   "metadata": {},
   "outputs": [
    {
     "name": "stdout",
     "output_type": "stream",
     "text": [
      "0\n"
     ]
    }
   ],
   "source": [
    "print(long_msg.count('this'))"
   ]
  },
  {
   "cell_type": "code",
   "execution_count": 49,
   "metadata": {},
   "outputs": [
    {
     "name": "stdout",
     "output_type": "stream",
     "text": [
      "0\n"
     ]
    }
   ],
   "source": [
    "print(long_msg.count('Visual'))"
   ]
  },
  {
   "cell_type": "code",
   "execution_count": 50,
   "metadata": {},
   "outputs": [
    {
     "data": {
      "text/plain": [
       "54"
      ]
     },
     "execution_count": 50,
     "metadata": {},
     "output_type": "execute_result"
    }
   ],
   "source": [
    "long_msg.find('mac')"
   ]
  },
  {
   "cell_type": "code",
   "execution_count": 51,
   "metadata": {},
   "outputs": [
    {
     "name": "stdout",
     "output_type": "stream",
     "text": [
      "A standalone source code editor that runs on Windows,\n",
      "macOS, and Linux.\n",
      "The top pick for JavaScript and web developers,\n",
      "with extensions to support \n",
      "just about any programming language.\n"
     ]
    }
   ],
   "source": [
    "print(long_msg)"
   ]
  },
  {
   "cell_type": "code",
   "execution_count": 52,
   "metadata": {},
   "outputs": [
    {
     "data": {
      "text/plain": [
       "-1"
      ]
     },
     "execution_count": 52,
     "metadata": {},
     "output_type": "execute_result"
    }
   ],
   "source": [
    "long_msg.rfind('is')"
   ]
  },
  {
   "cell_type": "markdown",
   "metadata": {},
   "source": [
    "## when we get -1 than its mean the term is not given in the sentence."
   ]
  },
  {
   "cell_type": "code",
   "execution_count": 53,
   "metadata": {},
   "outputs": [
    {
     "name": "stdout",
     "output_type": "stream",
     "text": [
      "4\n",
      "7\n",
      "34\n",
      "55\n",
      "61\n",
      "90\n",
      "92\n",
      "100\n",
      "153\n",
      "159\n",
      "168\n",
      "176\n",
      "180\n"
     ]
    }
   ],
   "source": [
    "q = 'a'\n",
    "start = 0\n",
    "while True:\n",
    "    pos = long_msg.find(q, start)\n",
    "    start = pos + 1\n",
    "    if pos == -1:\n",
    "        break\n",
    "    print(pos)"
   ]
  },
  {
   "cell_type": "code",
   "execution_count": 54,
   "metadata": {},
   "outputs": [
    {
     "name": "stdout",
     "output_type": "stream",
     "text": [
      "vowel a:4\n",
      "vowel a:7\n",
      "vowel a:34\n",
      "vowel a:55\n",
      "vowel a:61\n",
      "vowel a:90\n",
      "vowel a:92\n",
      "vowel a:100\n",
      "vowel a:153\n",
      "vowel a:159\n",
      "vowel a:168\n",
      "vowel a:176\n",
      "vowel a:180\n",
      "vowel e:11\n",
      "vowel e:18\n",
      "vowel e:23\n",
      "vowel e:25\n",
      "vowel e:74\n",
      "vowel e:105\n",
      "vowel e:109\n",
      "vowel e:111\n",
      "vowel e:115\n",
      "vowel e:125\n",
      "vowel e:128\n",
      "vowel e:182\n",
      "vowel i:27\n",
      "vowel i:46\n",
      "vowel i:66\n",
      "vowel i:81\n",
      "vowel i:96\n",
      "vowel i:121\n",
      "vowel i:131\n",
      "vowel i:171\n",
      "vowel o:9\n",
      "vowel o:14\n",
      "vowel o:21\n",
      "vowel o:29\n",
      "vowel o:42\n",
      "vowel o:49\n",
      "vowel o:77\n",
      "vowel o:86\n",
      "vowel o:113\n",
      "vowel o:132\n",
      "vowel o:137\n",
      "vowel o:143\n",
      "vowel o:155\n",
      "vowel o:165\n",
      "vowel u:15\n",
      "vowel u:38\n",
      "vowel u:68\n",
      "vowel u:140\n",
      "vowel u:149\n",
      "vowel u:156\n",
      "vowel u:179\n"
     ]
    }
   ],
   "source": [
    "### WAP to find all indexes of all vowels.\n",
    "\n",
    "\n",
    "for vowel in 'aeiou':\n",
    "    start = 0\n",
    "    while True:\n",
    "        pos = long_msg.find(vowel, start)\n",
    "        start = pos + 1\n",
    "        if pos == -1:\n",
    "            break\n",
    "        print(f\"vowel {vowel}:{pos}\")"
   ]
  },
  {
   "cell_type": "code",
   "execution_count": 55,
   "metadata": {},
   "outputs": [
    {
     "name": "stdout",
     "output_type": "stream",
     "text": [
      "123456\n",
      "numeric: True\n",
      "alphabets: False\n",
      "alphanumeric True\n",
      "only space False\n",
      "only uppercase False\n",
      "only lowerase False\n",
      "capitalised False\n",
      "decimal True\n"
     ]
    }
   ],
   "source": [
    "msg = input (\"enter anything\")\n",
    "print(msg)\n",
    "print(\"numeric:\",msg.isnumeric())\n",
    "print(\"alphabets:\",msg.isalpha())\n",
    "print(\"alphanumeric\",msg.isalnum())\n",
    "print(\"only space\",msg.isspace())\n",
    "print(\"only uppercase\",msg.isupper())\n",
    "print(\"only lowerase\",msg.islower())\n",
    "print(\"capitalised\",msg.istitle())\n",
    "print(\"decimal\",msg.isdecimal())"
   ]
  },
  {
   "cell_type": "code",
   "execution_count": 56,
   "metadata": {},
   "outputs": [],
   "source": [
    "## Count the number of vowels in a string.\n",
    "## Remove all the vowels in the string.\n",
    "## WAP to get firt n words from a string. Where n is a number given by user."
   ]
  },
  {
   "cell_type": "code",
   "execution_count": 57,
   "metadata": {},
   "outputs": [
    {
     "name": "stdout",
     "output_type": "stream",
     "text": [
      "vowel a : count 13\n",
      "vowel e : count 12\n",
      "vowel i : count 8\n",
      "vowel o : count 14\n",
      "vowel u : count 7\n"
     ]
    }
   ],
   "source": [
    "vowels = \"aeiou\"\n",
    "for v in vowels:\n",
    "    c=long_msg.count(v)\n",
    "    print(f\"vowel {v} : count {c}\")\n"
   ]
  },
  {
   "cell_type": "code",
   "execution_count": 58,
   "metadata": {},
   "outputs": [
    {
     "name": "stdout",
     "output_type": "stream",
     "text": [
      "A standalone source code editor that runs on Windows,\n",
      "macOS, and Linux.\n",
      "The top pick for JavaScript and web developers,\n",
      "with extensions to support \n",
      "just about any programming language.\n"
     ]
    }
   ],
   "source": [
    "msg = long_msg # copy the string\n",
    "vowels = \"aeiouAEIOU\"\n",
    "for v in vowels:\n",
    "    msg=long_msg.replace(v, '')\n",
    "print(msg)"
   ]
  },
  {
   "cell_type": "code",
   "execution_count": 62,
   "metadata": {},
   "outputs": [
    {
     "name": "stdout",
     "output_type": "stream",
     "text": [
      "['A', 'standalone', 'source', 'code', 'editor', 'that', 'runs']\n"
     ]
    }
   ],
   "source": [
    "word_count = int(input(\"how many words? \")) # There we give a number that how much words we want to print from long msg.\n",
    "words = long_msg.split()[:word_count]\n",
    "print(words)"
   ]
  },
  {
   "cell_type": "code",
   "execution_count": 63,
   "metadata": {},
   "outputs": [],
   "source": [
    "## Display the size of each word in the string find the largest word."
   ]
  },
  {
   "cell_type": "code",
   "execution_count": 66,
   "metadata": {},
   "outputs": [
    {
     "name": "stdout",
     "output_type": "stream",
     "text": [
      "A 1\n",
      "standalone 10\n",
      "source 6\n",
      "code 4\n",
      "editor 6\n",
      "that 4\n",
      "runs 4\n",
      "on 2\n",
      "Windows, 8\n",
      "macOS, 6\n",
      "and 3\n",
      "Linux. 6\n",
      "The 3\n",
      "top 3\n",
      "pick 4\n",
      "for 3\n",
      "JavaScript 10\n",
      "and 3\n",
      "web 3\n",
      "developers, 11\n",
      "with 4\n",
      "extensions 10\n",
      "to 2\n",
      "support 7\n",
      "just 4\n",
      "about 5\n",
      "any 3\n",
      "programming 11\n",
      "language. 9\n",
      "biggest word is developers, with 11 characters\n"
     ]
    }
   ],
   "source": [
    "m = 0  # letters in the word\n",
    "w = 0  # biggest word in the long msg\n",
    "for word in long_msg.split():\n",
    "    print(word, len(word))\n",
    "    if len(word) > m:\n",
    "        m = len(word)\n",
    "        w = word\n",
    "\n",
    "print(f'biggest word is {w} with {m} characters')"
   ]
  },
  {
   "cell_type": "code",
   "execution_count": null,
   "metadata": {},
   "outputs": [],
   "source": []
  }
 ],
 "metadata": {
  "kernelspec": {
   "display_name": "Python 3.9.12 ('base')",
   "language": "python",
   "name": "python3"
  },
  "language_info": {
   "codemirror_mode": {
    "name": "ipython",
    "version": 3
   },
   "file_extension": ".py",
   "mimetype": "text/x-python",
   "name": "python",
   "nbconvert_exporter": "python",
   "pygments_lexer": "ipython3",
   "version": "3.9.12"
  },
  "orig_nbformat": 4,
  "vscode": {
   "interpreter": {
    "hash": "3d597f4c481aa0f25dceb95d2a0067e73c0966dcbd003d741d821a7208527ecf"
   }
  }
 },
 "nbformat": 4,
 "nbformat_minor": 2
}
