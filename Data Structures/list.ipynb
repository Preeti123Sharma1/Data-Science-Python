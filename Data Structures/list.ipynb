{
 "cells": [
  {
   "cell_type": "markdown",
   "metadata": {},
   "source": [
    "## List\n",
    "\n",
    "List can be created by the uses of [] brackets with values inside it separated with commas."
   ]
  },
  {
   "cell_type": "markdown",
   "metadata": {},
   "source": [
    "In the list there are 11 functions.\n",
    "* count() - Returns the number of items with the sepecified value.\n",
    "* index() - Returns the indexof the first element with the specified value.\n",
    "* copy()  - Returns a copy of the list.\n",
    "* clear() - Removes all the elements from the list.\n",
    "* pop()   - Removes the element at the specified position."
   ]
  },
  {
   "cell_type": "code",
   "execution_count": 1,
   "metadata": {},
   "outputs": [],
   "source": [
    "# List of strings\n",
    "list1 = [\"Rafat\", \"Nidhi\",\"Harshita\",\"Sakshi\",\"Khushi\"]\n",
    "\n",
    "#list of Numbers\n",
    "list2 = [1,2,3,4,5,9,18,48,100]\n",
    "\n",
    "# Mixed data list\n",
    "list3 = ['Ravi' ,90,49,88,80,44,\"B\",False,5.789]\n",
    "\n",
    "# Nested List\n",
    "list4 = [[1,2,3],[3,4,5,6],[5,3]]"
   ]
  },
  {
   "cell_type": "code",
   "execution_count": 6,
   "metadata": {},
   "outputs": [
    {
     "name": "stdout",
     "output_type": "stream",
     "text": [
      "list1[0]= 2\n",
      "list1[2]= 6\n",
      "list1[-1]= C,20\n",
      "list1[-3]= B\n"
     ]
    }
   ],
   "source": [
    "# Accessing ;ist items in python-\n",
    "list1 = [2,3,6,'A',10,'B',16,'C,20']\n",
    "\n",
    "# First Item-\n",
    "print('list1[0]=',list1[0])\n",
    "\n",
    "# third item-\n",
    "print('list1[2]=',list1[2])\n",
    "\n",
    "# Last Item-\n",
    "print('list1[-1]=',list1[-1])\n",
    "\n",
    "# Last third item-\n",
    "print('list1[-3]=',list1[-3])"
   ]
  },
  {
   "cell_type": "code",
   "execution_count": 10,
   "metadata": {},
   "outputs": [
    {
     "name": "stdout",
     "output_type": "stream",
     "text": [
      "[40, 50, 60, 70, 80]\n"
     ]
    }
   ],
   "source": [
    "# Getting a list slice-\n",
    "\n",
    "l = [10,20,30,40,50,60,70,80,90,100]\n",
    "slice1 = l[3:-2]\n",
    "print(slice1)"
   ]
  },
  {
   "cell_type": "code",
   "execution_count": 60,
   "metadata": {},
   "outputs": [
    {
     "name": "stdout",
     "output_type": "stream",
     "text": [
      "The list from 0 to 4 = [10, 20, 30, 40]\n",
      "[10, 20, 30, 40, 50, 60, 70, 80]\n"
     ]
    }
   ],
   "source": [
    "# Getting a list slice-\n",
    "\n",
    "l = [10,20,30,40,50,60,70,80,90,100]\n",
    "print('The list from 0 to 4 =' ,l[:4])\n",
    "slice1 = l[:8]\n",
    "print(slice1)"
   ]
  },
  {
   "cell_type": "code",
   "execution_count": 2,
   "metadata": {},
   "outputs": [],
   "source": [
    "books =[\n",
    "    'legion',\n",
    "    'legion: Skin Deep',\n",
    "    'the final',\n",
    "    'bangel seller',\n",
    "    'daffodils',\n",
    "    'Oathbringer'\n",
    "\n",
    "]"
   ]
  },
  {
   "cell_type": "code",
   "execution_count": 17,
   "metadata": {},
   "outputs": [
    {
     "data": {
      "text/plain": [
       "['legion', 'legion: Skin Deep', 'the final']"
      ]
     },
     "execution_count": 17,
     "metadata": {},
     "output_type": "execute_result"
    }
   ],
   "source": [
    "books[:3] # first 3 books"
   ]
  },
  {
   "cell_type": "code",
   "execution_count": 27,
   "metadata": {},
   "outputs": [
    {
     "data": {
      "text/plain": [
       "['bangel seller']"
      ]
     },
     "execution_count": 27,
     "metadata": {},
     "output_type": "execute_result"
    }
   ],
   "source": [
    "books[3:4] # all except firts 3 and last 4 books"
   ]
  },
  {
   "cell_type": "code",
   "execution_count": 26,
   "metadata": {},
   "outputs": [
    {
     "name": "stdout",
     "output_type": "stream",
     "text": [
      "fruits =  ['Apple', 'Banana', 'Cherry', 'Guava']\n"
     ]
    }
   ],
   "source": [
    "# Apped Function \n",
    "\n",
    "fruits = []\n",
    "fruits.append('Apple')\n",
    "fruits.append('Banana')\n",
    "fruits.append('Cherry')\n",
    "fruits.append('Guava')\n",
    "print(\"fruits = \", fruits)"
   ]
  },
  {
   "cell_type": "code",
   "execution_count": 42,
   "metadata": {},
   "outputs": [
    {
     "name": "stdout",
     "output_type": "stream",
     "text": [
      "['Nightblood', 'The  hero of ages', 'bangel seller', 'daffodils', 'legion', 'legion: Skin Deep', 'the final', 'Firefight', 'Rythm of war']\n"
     ]
    }
   ],
   "source": [
    "books.append('Firefight')\n",
    "books.append('Rythm of war')\n",
    "print(books)"
   ]
  },
  {
   "cell_type": "code",
   "execution_count": 28,
   "metadata": {},
   "outputs": [
    {
     "name": "stdout",
     "output_type": "stream",
     "text": [
      "['apple', 'orange', 'banana', 'cherry']\n"
     ]
    }
   ],
   "source": [
    "# Insert Function- (insert and append work same)\n",
    "\n",
    "fruits = ['apple', 'banana', 'cherry']\n",
    "fruits.insert(1,\"orange\")\n",
    "print(fruits)"
   ]
  },
  {
   "cell_type": "code",
   "execution_count": 29,
   "metadata": {},
   "outputs": [
    {
     "name": "stdout",
     "output_type": "stream",
     "text": [
      "['legion', 'legion: Skin Deep', 'the final', 'bangel seller', 'daffodils', 'The  hero of ages']\n"
     ]
    }
   ],
   "source": [
    "books.insert(6,'The  hero of ages')\n",
    "print(books)"
   ]
  },
  {
   "cell_type": "code",
   "execution_count": 3,
   "metadata": {},
   "outputs": [],
   "source": [
    "books.insert(100,'Nightblood') #unfeasible index, will be added to the end of the list"
   ]
  },
  {
   "cell_type": "code",
   "execution_count": 31,
   "metadata": {},
   "outputs": [
    {
     "name": "stdout",
     "output_type": "stream",
     "text": [
      "['apple', 'banana', 'cherry', 'almond', 'cashew', 'walnut']\n"
     ]
    }
   ],
   "source": [
    "# Extend function-  (use for add two lists)\n",
    "\n",
    "fruits = ['apple', 'banana', 'cherry']\n",
    "dry_fruits = ['almond', 'cashew', 'walnut']\n",
    "fruits.extend(dry_fruits)\n",
    "print(fruits)"
   ]
  },
  {
   "cell_type": "code",
   "execution_count": 32,
   "metadata": {},
   "outputs": [
    {
     "name": "stdout",
     "output_type": "stream",
     "text": [
      "['Guava', 'apple', 'banana', 'cherry']\n"
     ]
    }
   ],
   "source": [
    "# Sort function -\n",
    "\n",
    "fruits = ['Guava','apple', 'banana', 'cherry'] #sortings are always alphabeticals\n",
    "fruits.sort()\n",
    "print(fruits)"
   ]
  },
  {
   "cell_type": "code",
   "execution_count": 33,
   "metadata": {},
   "outputs": [
    {
     "name": "stdout",
     "output_type": "stream",
     "text": [
      "['the final', 'legion: Skin Deep', 'legion', 'daffodils', 'bangel seller', 'The  hero of ages', 'Nightblood']\n"
     ]
    }
   ],
   "source": [
    "books.sort(reverse=True)\n",
    "print(books)"
   ]
  },
  {
   "cell_type": "code",
   "execution_count": 34,
   "metadata": {},
   "outputs": [
    {
     "name": "stdout",
     "output_type": "stream",
     "text": [
      "[1, 1, 1, 2, 2, 2, 2, 2, 2, 3, 3, 5, 5, 5, 11]\n"
     ]
    }
   ],
   "source": [
    "x = [1,2,2,3,3,2,2,2,2,5,5,5,11,1,1]\n",
    "x.sort()\n",
    "print(x)"
   ]
  },
  {
   "cell_type": "code",
   "execution_count": 35,
   "metadata": {},
   "outputs": [
    {
     "name": "stdout",
     "output_type": "stream",
     "text": [
      "[1, 1, 2, 2, 2, 2, 2, 2, 3, 3, 5, 5, 5, 11]\n"
     ]
    }
   ],
   "source": [
    "# Remove always remove one item at a time.\n",
    "\n",
    "if 1 in x:\n",
    "    x.remove(1)\n",
    "    print(x)\n",
    "    if 4 in x:\n",
    "        x.remove(4)\n",
    "        print(x)"
   ]
  },
  {
   "cell_type": "code",
   "execution_count": 38,
   "metadata": {},
   "outputs": [
    {
     "name": "stdout",
     "output_type": "stream",
     "text": [
      "not found\n"
     ]
    }
   ],
   "source": [
    "x.remove(3) if 3 in x else print('not found')"
   ]
  },
  {
   "cell_type": "code",
   "execution_count": 39,
   "metadata": {},
   "outputs": [
    {
     "name": "stdout",
     "output_type": "stream",
     "text": [
      "[1, 1, 2, 2, 2, 2, 2, 2, 5, 5, 5, 11]\n"
     ]
    }
   ],
   "source": [
    "print(x)"
   ]
  },
  {
   "cell_type": "code",
   "execution_count": 40,
   "metadata": {},
   "outputs": [
    {
     "name": "stdout",
     "output_type": "stream",
     "text": [
      "['Nightblood', 'The  hero of ages', 'bangel seller', 'daffodils', 'legion', 'legion: Skin Deep', 'the final']\n"
     ]
    }
   ],
   "source": [
    "books.reverse()  #reverse the list\n",
    "print(books)"
   ]
  },
  {
   "cell_type": "code",
   "execution_count": 41,
   "metadata": {},
   "outputs": [
    {
     "data": {
      "text/plain": [
       "['the final',\n",
       " 'legion: Skin Deep',\n",
       " 'legion',\n",
       " 'daffodils',\n",
       " 'bangel seller',\n",
       " 'The  hero of ages',\n",
       " 'Nightblood']"
      ]
     },
     "execution_count": 41,
     "metadata": {},
     "output_type": "execute_result"
    }
   ],
   "source": [
    "books[::-1] # reverse the list"
   ]
  },
  {
   "cell_type": "code",
   "execution_count": 6,
   "metadata": {},
   "outputs": [
    {
     "data": {
      "text/plain": [
       "6"
      ]
     },
     "execution_count": 6,
     "metadata": {},
     "output_type": "execute_result"
    }
   ],
   "source": [
    "# Count Function -\n",
    "\n",
    "x = [1,2,3,4,5,6,45,1,1,1,2,2,3,3,3,2,2,1,1,87,99]\n",
    "x.count(1)"
   ]
  },
  {
   "cell_type": "code",
   "execution_count": 49,
   "metadata": {},
   "outputs": [
    {
     "data": {
      "text/plain": [
       "4"
      ]
     },
     "execution_count": 49,
     "metadata": {},
     "output_type": "execute_result"
    }
   ],
   "source": [
    "# Index function-\n",
    "\n",
    "movies = [\n",
    "    'Nightblood',\n",
    "    'The  hero of ages',\n",
    "    'bangel seller', \n",
    "    'daffodils', \n",
    "    'legion', \n",
    "    'legion: Skin Deep', \n",
    "    'the final']\n",
    "movies.index('legion')"
   ]
  },
  {
   "cell_type": "code",
   "execution_count": 50,
   "metadata": {},
   "outputs": [
    {
     "data": {
      "text/plain": [
       "9"
      ]
     },
     "execution_count": 50,
     "metadata": {},
     "output_type": "execute_result"
    }
   ],
   "source": [
    "len(books)"
   ]
  },
  {
   "cell_type": "code",
   "execution_count": 54,
   "metadata": {},
   "outputs": [
    {
     "name": "stdout",
     "output_type": "stream",
     "text": [
      "5\n"
     ]
    },
    {
     "data": {
      "text/plain": [
       "['Oathbringer']"
      ]
     },
     "execution_count": 54,
     "metadata": {},
     "output_type": "execute_result"
    }
   ],
   "source": [
    "oathidx = books.index('Oathbringer')\n",
    "print(oathidx)\n",
    "books[oathidx:]"
   ]
  },
  {
   "cell_type": "code",
   "execution_count": 55,
   "metadata": {},
   "outputs": [
    {
     "data": {
      "text/plain": [
       "['Oathbringer']"
      ]
     },
     "execution_count": 55,
     "metadata": {},
     "output_type": "execute_result"
    }
   ],
   "source": [
    "books[books.index('Oathbringer'): ]"
   ]
  },
  {
   "cell_type": "code",
   "execution_count": 56,
   "metadata": {},
   "outputs": [
    {
     "name": "stdout",
     "output_type": "stream",
     "text": [
      "['cherry', 'guava', 'mango', 'apple']\n"
     ]
    }
   ],
   "source": [
    "## Copy function-\n",
    "\n",
    "fruits = ['cherry','guava','mango','apple']\n",
    "dup_fruits = fruits.copy()\n",
    "print(dup_fruits)"
   ]
  },
  {
   "cell_type": "code",
   "execution_count": 57,
   "metadata": {},
   "outputs": [
    {
     "name": "stdout",
     "output_type": "stream",
     "text": [
      "[]\n"
     ]
    }
   ],
   "source": [
    "## Clear function- (clear function use for clear all the items in tha list)\n",
    "\n",
    "fruits = ['cherry','guava','mango','apple']\n",
    "fruits.clear()\n",
    "print(fruits)"
   ]
  },
  {
   "cell_type": "code",
   "execution_count": 58,
   "metadata": {},
   "outputs": [
    {
     "name": "stdout",
     "output_type": "stream",
     "text": [
      "apple\n"
     ]
    }
   ],
   "source": [
    "## pop function- (it is pop the last value of the list)\n",
    "\n",
    "# By list.pop() method-\n",
    "fruits = ['cherry','guava','mango','apple']\n",
    "v = fruits.pop()\n",
    "print(v)\n"
   ]
  },
  {
   "cell_type": "code",
   "execution_count": 59,
   "metadata": {},
   "outputs": [
    {
     "name": "stdout",
     "output_type": "stream",
     "text": [
      "mango\n"
     ]
    }
   ],
   "source": [
    "# By list.pop(idx) method-\n",
    "\n",
    "fruits = ['cherry','guava','mango','apple']\n",
    "v = fruits.pop(2)\n",
    "print(v)"
   ]
  },
  {
   "cell_type": "markdown",
   "metadata": {},
   "source": [
    "## WAP to create list of 5 values given by the user"
   ]
  },
  {
   "cell_type": "code",
   "execution_count": 62,
   "metadata": {},
   "outputs": [
    {
     "name": "stdout",
     "output_type": "stream",
     "text": [
      "['32', '42', '53', '64', '64']\n"
     ]
    }
   ],
   "source": [
    "ex = []\n",
    "for i in range(5):\n",
    "    val = input(f'enter 5 integers {i+1}: ')\n",
    "    ex.append(val)\n",
    "print(ex)\n"
   ]
  },
  {
   "cell_type": "markdown",
   "metadata": {},
   "source": [
    "WAP to display sum of a list"
   ]
  },
  {
   "cell_type": "code",
   "execution_count": 67,
   "metadata": {},
   "outputs": [
    {
     "name": "stdout",
     "output_type": "stream",
     "text": [
      "23\n",
      "66\n",
      "119\n",
      "204\n",
      "290\n",
      "387\n",
      "461\n"
     ]
    }
   ],
   "source": [
    "data = [23,43,53,85,86,97,74]\n",
    "total = 0\n",
    "for i in data:\n",
    "    total += i\n",
    "    print(total)"
   ]
  },
  {
   "cell_type": "code",
   "execution_count": 68,
   "metadata": {},
   "outputs": [
    {
     "name": "stdout",
     "output_type": "stream",
     "text": [
      "461\n"
     ]
    }
   ],
   "source": [
    "data = [23,43,53,85,86,97,74]\n",
    "total = 0\n",
    "for i in data:\n",
    "    total += i\n",
    "print(total)"
   ]
  },
  {
   "cell_type": "code",
   "execution_count": 9,
   "metadata": {},
   "outputs": [],
   "source": [
    "# Mean\n"
   ]
  },
  {
   "cell_type": "code",
   "execution_count": null,
   "metadata": {},
   "outputs": [],
   "source": [
    "mean, mode, median, max,min"
   ]
  }
 ],
 "metadata": {
  "kernelspec": {
   "display_name": "Python 3.9.12 ('base')",
   "language": "python",
   "name": "python3"
  },
  "language_info": {
   "codemirror_mode": {
    "name": "ipython",
    "version": 3
   },
   "file_extension": ".py",
   "mimetype": "text/x-python",
   "name": "python",
   "nbconvert_exporter": "python",
   "pygments_lexer": "ipython3",
   "version": "3.9.12"
  },
  "orig_nbformat": 4,
  "vscode": {
   "interpreter": {
    "hash": "3d597f4c481aa0f25dceb95d2a0067e73c0966dcbd003d741d821a7208527ecf"
   }
  }
 },
 "nbformat": 4,
 "nbformat_minor": 2
}
