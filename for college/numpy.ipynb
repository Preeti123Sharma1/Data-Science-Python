{
 "cells": [
  {
   "cell_type": "code",
   "execution_count": 1,
   "metadata": {},
   "outputs": [],
   "source": [
    "import numpy as np"
   ]
  },
  {
   "cell_type": "code",
   "execution_count": 4,
   "metadata": {},
   "outputs": [],
   "source": [
    "# create array with arange  fuction of numpy\n",
    "\n",
    "a = np.arange(15) # its mean less than 15 no. we find in the our matrix\n",
    "\n",
    "a = np.arange(15).reshape(3,5) # so we have 3 row and 5 column"
   ]
  },
  {
   "cell_type": "code",
   "execution_count": 5,
   "metadata": {},
   "outputs": [
    {
     "name": "stdout",
     "output_type": "stream",
     "text": [
      "[[ 0  1  2  3  4]\n",
      " [ 5  6  7  8  9]\n",
      " [10 11 12 13 14]]\n"
     ]
    }
   ],
   "source": [
    "print(a)"
   ]
  },
  {
   "cell_type": "code",
   "execution_count": 7,
   "metadata": {},
   "outputs": [
    {
     "data": {
      "text/plain": [
       "dtype('int64')"
      ]
     },
     "execution_count": 7,
     "metadata": {},
     "output_type": "execute_result"
    }
   ],
   "source": [
    "# size of array\n",
    "a.size\n",
    "\n",
    "# dimensions of array\n",
    "a.ndim\n",
    "\n",
    "# datatype of array\n",
    "a.dtype"
   ]
  },
  {
   "cell_type": "code",
   "execution_count": 9,
   "metadata": {},
   "outputs": [
    {
     "name": "stdout",
     "output_type": "stream",
     "text": [
      "[[0 1 2]\n",
      " [3 4 5]\n",
      " [6 7 8]]\n"
     ]
    }
   ],
   "source": [
    "# creating array from the iterator\n",
    "list_b = [0,1,2,3,4,5,6,7,8]\n",
    "\n",
    "b = np.array(list_b).reshape(3,3)\n",
    "print(b)"
   ]
  },
  {
   "cell_type": "code",
   "execution_count": 16,
   "metadata": {},
   "outputs": [
    {
     "name": "stdout",
     "output_type": "stream",
     "text": [
      "[[1.5 2.  3. ]\n",
      " [5.  6.  7. ]]\n"
     ]
    }
   ],
   "source": [
    "# creating multi- dimension array from a iterator\n",
    "b = np.array([(1.5 ,2, 3),(5, 6, 7)])\n",
    "print(b)"
   ]
  },
  {
   "cell_type": "code",
   "execution_count": 19,
   "metadata": {},
   "outputs": [
    {
     "name": "stdout",
     "output_type": "stream",
     "text": [
      "[[1.+0.j 2.+0.j]\n",
      " [3.+0.j 4.+0.j]]\n"
     ]
    }
   ],
   "source": [
    "# dtype(data type) can also be specified\n",
    "c = np.array([[1,2], [3,4]], dtype= complex)\n",
    "print(c)"
   ]
  },
  {
   "cell_type": "code",
   "execution_count": 21,
   "metadata": {},
   "outputs": [
    {
     "name": "stdout",
     "output_type": "stream",
     "text": [
      "[[0. 0. 0. 0.]\n",
      " [0. 0. 0. 0.]\n",
      " [0. 0. 0. 0.]]\n"
     ]
    }
   ],
   "source": [
    "# array of zeros\n",
    "zeros = np.zeros((3,4))\n",
    "\n",
    "print(zeros)"
   ]
  },
  {
   "cell_type": "code",
   "execution_count": 23,
   "metadata": {},
   "outputs": [
    {
     "name": "stdout",
     "output_type": "stream",
     "text": [
      "[[[1 1 1 1]\n",
      "  [1 1 1 1]\n",
      "  [1 1 1 1]]\n",
      "\n",
      " [[1 1 1 1]\n",
      "  [1 1 1 1]\n",
      "  [1 1 1 1]]]\n"
     ]
    }
   ],
   "source": [
    "# array of ones\n",
    "ones = np.ones((2,3,4), dtype=np.int16)\n",
    "\n",
    "print(ones)"
   ]
  },
  {
   "cell_type": "markdown",
   "metadata": {},
   "source": [
    "# MCQ  test question"
   ]
  },
  {
   "cell_type": "code",
   "execution_count": 8,
   "metadata": {},
   "outputs": [],
   "source": [
    "class A:\n",
    "    def __init__(self,b):\n",
    "        self.b=b\n",
    "    def display(self):\n",
    "        print(self.b)\n",
    "obj=A(\"Hello\")\n",
    "del obj"
   ]
  },
  {
   "cell_type": "code",
   "execution_count": 34,
   "metadata": {},
   "outputs": [
    {
     "name": "stdout",
     "output_type": "stream",
     "text": [
      "first method called\n"
     ]
    }
   ],
   "source": [
    "class B(object):\n",
    "    def first(self):\n",
    "        print(\"first method called\")\n",
    "    def second():\n",
    "        print(\"second method called\")\n",
    "ob = B()\n",
    "B.first(ob)"
   ]
  },
  {
   "cell_type": "code",
   "execution_count": 10,
   "metadata": {},
   "outputs": [
    {
     "name": "stdout",
     "output_type": "stream",
     "text": [
      "7\n"
     ]
    }
   ],
   "source": [
    "class change:\n",
    "    def __init__(self,x,y,z):\n",
    "        self.a= x + y + z\n",
    "\n",
    "x = change(1,2,3)\n",
    "y = getattr(x,\"a\")\n",
    "setattr(x,'a',y+1)\n",
    "print(x.a)"
   ]
  },
  {
   "cell_type": "code",
   "execution_count": 12,
   "metadata": {},
   "outputs": [
    {
     "name": "stdout",
     "output_type": "stream",
     "text": [
      "13\n"
     ]
    }
   ],
   "source": [
    "class fruits:\n",
    "    def __init__(self,price):\n",
    "        self.price = price\n",
    "obj = fruits(50)\n",
    "\n",
    "obj.quantity=10\n",
    "obj.bags=2\n",
    "\n",
    "print(obj.quantity+len(obj.__dict__))"
   ]
  },
  {
   "cell_type": "code",
   "execution_count": 13,
   "metadata": {},
   "outputs": [
    {
     "name": "stdout",
     "output_type": "stream",
     "text": [
      "__main__\n"
     ]
    }
   ],
   "source": [
    "class Demo:\n",
    "    def __init__(self):\n",
    "        pass\n",
    "\n",
    "    def test(self):\n",
    "        print(__name__)\n",
    "\n",
    "obj = Demo()\n",
    "obj.test()"
   ]
  },
  {
   "cell_type": "code",
   "execution_count": 14,
   "metadata": {},
   "outputs": [
    {
     "name": "stdout",
     "output_type": "stream",
     "text": [
      "__str__built-in function called\n"
     ]
    }
   ],
   "source": [
    "class demo():\n",
    "    def __repr__(self):\n",
    "        return '__repr__built-in function called'\n",
    "    def __str__(self):\n",
    "        return '__str__built-in function called'\n",
    "\n",
    "s=demo()\n",
    "print(s)"
   ]
  },
  {
   "cell_type": "code",
   "execution_count": 16,
   "metadata": {},
   "outputs": [
    {
     "name": "stdout",
     "output_type": "stream",
     "text": [
      "True\n"
     ]
    }
   ],
   "source": [
    "class stud:\n",
    "    def __init__(self,roll_no, grade):\n",
    "        self.roll_no = roll_no\n",
    "        self.grade = grade\n",
    "    def display(self):\n",
    "        print(\"Roll no :\", self.roll_no, \"Grade :\", self.grade)\n",
    "stud1 =stud(34,'S')\n",
    "stud1.age=7\n",
    "print(hasattr(stud1,'age'))"
   ]
  },
  {
   "cell_type": "code",
   "execution_count": 17,
   "metadata": {},
   "outputs": [
    {
     "name": "stdout",
     "output_type": "stream",
     "text": [
      "a is 3 and b is 7 and c is 10\n",
      "a is 25 and b is 5 and c is 24\n",
      "a is 100 and b is 5 and c is 50\n"
     ]
    }
   ],
   "source": [
    "def func(a, b=5,c=10):\n",
    "    print('a is',a,'and b is', b,'and c is', c)\n",
    "\n",
    "func(3,7)\n",
    "func(25,c=24)\n",
    "func(c=50,a=100)"
   ]
  },
  {
   "cell_type": "code",
   "execution_count": 18,
   "metadata": {},
   "outputs": [],
   "source": [
    "class Employee:\n",
    "    empid=0\n",
    "    name=\"\"\n",
    "    def __init__(id,name):\n",
    "        empid=id\n",
    "        name=name"
   ]
  },
  {
   "cell_type": "code",
   "execution_count": 21,
   "metadata": {},
   "outputs": [
    {
     "name": "stdout",
     "output_type": "stream",
     "text": [
      "25\n"
     ]
    }
   ],
   "source": [
    "def pow(b , p):\n",
    "    y = b ** p\n",
    "    return y\n",
    "\n",
    "def square(x):\n",
    "    a = pow(x,2)\n",
    "    return a\n",
    "\n",
    "n = 5\n",
    "result = square(n)\n",
    "print(result)"
   ]
  },
  {
   "cell_type": "code",
   "execution_count": 22,
   "metadata": {},
   "outputs": [
    {
     "name": "stdout",
     "output_type": "stream",
     "text": [
      "-3 5\n"
     ]
    }
   ],
   "source": [
    "def test(a,b=5):\n",
    "    print(a,b)\n",
    "\n",
    "test(-3)"
   ]
  },
  {
   "cell_type": "code",
   "execution_count": 28,
   "metadata": {},
   "outputs": [
    {
     "name": "stdout",
     "output_type": "stream",
     "text": [
      "Old\n"
     ]
    }
   ],
   "source": [
    "class test:\n",
    "    def __init__(self):\n",
    "        self.variable = 'Old'\n",
    "        self.Change(self.variable)\n",
    "    def Change(self, var):\n",
    "        var = 'New'\n",
    "obj=test()\n",
    "print(obj.variable)"
   ]
  },
  {
   "cell_type": "code",
   "execution_count": 30,
   "metadata": {},
   "outputs": [
    {
     "name": "stdout",
     "output_type": "stream",
     "text": [
      "0\n"
     ]
    }
   ],
   "source": [
    "i=0\n",
    "def change(i):\n",
    "    i=i+1\n",
    "    return i\n",
    "change(1)\n",
    "print(i)"
   ]
  },
  {
   "cell_type": "code",
   "execution_count": 32,
   "metadata": {},
   "outputs": [
    {
     "name": "stdout",
     "output_type": "stream",
     "text": [
      "Hallo World!\n",
      "Hallo World!\n"
     ]
    }
   ],
   "source": [
    "def sayHello():\n",
    "    print('Hallo World!')\n",
    "sayHello()\n",
    "sayHello()"
   ]
  },
  {
   "cell_type": "code",
   "execution_count": null,
   "metadata": {},
   "outputs": [],
   "source": []
  }
 ],
 "metadata": {
  "kernelspec": {
   "display_name": "Python 3.9.12 ('base')",
   "language": "python",
   "name": "python3"
  },
  "language_info": {
   "codemirror_mode": {
    "name": "ipython",
    "version": 3
   },
   "file_extension": ".py",
   "mimetype": "text/x-python",
   "name": "python",
   "nbconvert_exporter": "python",
   "pygments_lexer": "ipython3",
   "version": "3.9.12"
  },
  "orig_nbformat": 4,
  "vscode": {
   "interpreter": {
    "hash": "3d597f4c481aa0f25dceb95d2a0067e73c0966dcbd003d741d821a7208527ecf"
   }
  }
 },
 "nbformat": 4,
 "nbformat_minor": 2
}
