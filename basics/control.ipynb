{
 "cells": [
  {
   "cell_type": "markdown",
   "metadata": {},
   "source": [
    " ## control\n",
    "conditions - * if (single condition based program)\n",
    "* if else(complete condition based logic)\n",
    "* if elif else(multiple condition based program)\n",
    "loop\n",
    "## we can't use { } for block in python so indentation is introduced\n",
    "## : shows the starting of the block "
   ]
  },
  {
   "cell_type": "markdown",
   "metadata": {},
   "source": [
    "## if \n",
    "if expression :\n",
    "statement 1\n",
    "statement 2\n",
    "statement 3\n",
    ".....\n",
    "statement n"
   ]
  },
  {
   "cell_type": "code",
   "execution_count": 2,
   "metadata": {},
   "outputs": [
    {
     "name": "stdout",
     "output_type": "stream",
     "text": [
      "even\n",
      "the end\n"
     ]
    }
   ],
   "source": [
    "x = 1356\n",
    "if x % 2 == 0:\n",
    "    print(\"even\")\n",
    "print(\"the end\")"
   ]
  },
  {
   "cell_type": "code",
   "execution_count": 6,
   "metadata": {},
   "outputs": [
    {
     "name": "stdout",
     "output_type": "stream",
     "text": [
      "number is numeric so good job dude\n"
     ]
    }
   ],
   "source": [
    "num = input(\"enter a num\")\n",
    "if num.isnumeric():\n",
    "    print(\"number is numeric so good job dude\")\n",
    "else: \n",
    "    print(\"number is not numeric \")"
   ]
  },
  {
   "cell_type": "code",
   "execution_count": 5,
   "metadata": {},
   "outputs": [
    {
     "name": "stdout",
     "output_type": "stream",
     "text": [
      "Bad input\n"
     ]
    }
   ],
   "source": [
    "num = input(\"enter a num\")\n",
    "if num.isnumeric():\n",
    "    print(\"well done\") #this is valid for numeric numbers \n",
    "else: \n",
    "    print(\"Bad input\") #this is valid for not numeric fuction"
   ]
  },
  {
   "cell_type": "code",
   "execution_count": 10,
   "metadata": {},
   "outputs": [
    {
     "name": "stdout",
     "output_type": "stream",
     "text": [
      "Wrong password\n"
     ]
    }
   ],
   "source": [
    "username = input('enter name')\n",
    "email = input('enter email')\n",
    "password = input('enter password')\n",
    "if username == 'john Cena':\n",
    "    if email = 'john@gmail.com':\n",
    "        if password == \"abcd\":\n",
    "            print(\"welcome to WWF\")\n",
    "        else:\n",
    "            print(\"Wrong password\")\n",
    "    else:\n",
    "        print(\"Wrong email\")\n",
    "else: \n",
    "    print(\"Wrong username\")        \n"
   ]
  },
  {
   "cell_type": "code",
   "execution_count": 14,
   "metadata": {},
   "outputs": [
    {
     "name": "stdout",
     "output_type": "stream",
     "text": [
      "worng username\n"
     ]
    }
   ],
   "source": [
    "username = input('enter name')\n",
    "email = input('enter email')\n",
    "password = input('enter password')\n",
    "if username != 'john Cena':\n",
    "    print(\"worng username\")\n",
    "elif password != 'abcd' :\n",
    "    print(\"wrong password\")  \n",
    "elif email != 'john@gmail.com' :  \n",
    "    print(\"wrong email\")"
   ]
  },
  {
   "cell_type": "markdown",
   "metadata": {},
   "source": [
    "# WAP to calculate grade of student "
   ]
  },
  {
   "cell_type": "code",
   "execution_count": 1,
   "metadata": {},
   "outputs": [],
   "source": [
    "marks = input(\"Enter the marks: \")\n",
    "if not marks.isnumeric():\n",
    "    print(\"invalid\")\n",
    "    if marks >= 90:\n",
    "        print(\"grade is A\")\n",
    "    elif marks >= 80:\n",
    "        print(\"grade is B\")\n",
    "    elif marks >= 70:\n",
    "        print(\"grade C\")\n",
    "    elif marks >= 60:\n",
    "        print(\"grade is D\")\n",
    "    elif marks < 60:\n",
    "        print(\"grade F\")              "
   ]
  },
  {
   "cell_type": "markdown",
   "metadata": {},
   "source": [
    "## for loop"
   ]
  },
  {
   "cell_type": "markdown",
   "metadata": {},
   "source": [
    "# syntax \n",
    "\n",
    "for <variable> in <sequence>:\n",
    "statement 1\n",
    "statement 2\n",
    ".....\n",
    "statement n\n"
   ]
  },
  {
   "cell_type": "code",
   "execution_count": 1,
   "metadata": {},
   "outputs": [
    {
     "name": "stdout",
     "output_type": "stream",
     "text": [
      "P\n",
      "Y\n",
      "T\n",
      "H\n",
      "O\n",
      "N\n"
     ]
    }
   ],
   "source": [
    "x = \"PYTHON\"\n",
    "for i in x:\n",
    "    print(i)"
   ]
  },
  {
   "cell_type": "code",
   "execution_count": 2,
   "metadata": {},
   "outputs": [
    {
     "name": "stdout",
     "output_type": "stream",
     "text": [
      "I have apple\n",
      "I have banana\n",
      "I have lemon\n"
     ]
    }
   ],
   "source": [
    "fruits = ['apple','banana','lemon']\n",
    "for item in fruits:\n",
    "    print(f'I have {item}')"
   ]
  },
  {
   "cell_type": "markdown",
   "metadata": {},
   "source": [
    "string settings\n",
    "'r' = raw string\n",
    "'f' = formatted string\n",
    "'b' = byte string"
   ]
  },
  {
   "cell_type": "code",
   "execution_count": null,
   "metadata": {},
   "outputs": [],
   "source": [
    "r\"C \""
   ]
  },
  {
   "cell_type": "code",
   "execution_count": 3,
   "metadata": {},
   "outputs": [
    {
     "name": "stdout",
     "output_type": "stream",
     "text": [
      "I can count 10 Birds on the roof of my house\n"
     ]
    }
   ],
   "source": [
    "a = 10\n",
    "b = \"Birds\"\n",
    "print('I can count',a,b,\"on the roof of my house\")"
   ]
  },
  {
   "cell_type": "code",
   "execution_count": 4,
   "metadata": {},
   "outputs": [
    {
     "name": "stdout",
     "output_type": "stream",
     "text": [
      "I can count 10 Birds on the roof of my house\n"
     ]
    }
   ],
   "source": [
    "print(f'I can count {a} {b} on the roof of my house')"
   ]
  },
  {
   "cell_type": "markdown",
   "metadata": {},
   "source": [
    "# range() function\n",
    "we can use the python range() function to define the limit"
   ]
  },
  {
   "cell_type": "code",
   "execution_count": 5,
   "metadata": {},
   "outputs": [
    {
     "name": "stdout",
     "output_type": "stream",
     "text": [
      "you got point 0\n",
      "you got point 1\n",
      "you got point 2\n",
      "you got point 3\n",
      "you got point 4\n",
      "you got point 5\n"
     ]
    }
   ],
   "source": [
    "for i in range(6):\n",
    "    print('you got point',i)"
   ]
  },
  {
   "cell_type": "code",
   "execution_count": 6,
   "metadata": {},
   "outputs": [
    {
     "name": "stdout",
     "output_type": "stream",
     "text": [
      "level 1\n",
      "level 4\n",
      "level 7\n"
     ]
    }
   ],
   "source": [
    "for num in range (1,10,3):\n",
    "    print('level', num)"
   ]
  },
  {
   "cell_type": "code",
   "execution_count": 7,
   "metadata": {},
   "outputs": [
    {
     "name": "stdout",
     "output_type": "stream",
     "text": [
      "sheep 2\n",
      "sheep 3\n",
      "sheep 4\n",
      "sheep 5\n",
      "sheep 6\n",
      "sheep 7\n",
      "sheep 8\n",
      "sheep 9\n",
      "sheep 10\n"
     ]
    }
   ],
   "source": [
    "for num in range(2,11):\n",
    "    print('sheep',num)"
   ]
  },
  {
   "cell_type": "code",
   "execution_count": 8,
   "metadata": {},
   "outputs": [
    {
     "name": "stdout",
     "output_type": "stream",
     "text": [
      "10\n",
      "9\n",
      "8\n",
      "7\n",
      "6\n"
     ]
    }
   ],
   "source": [
    "# reverse loop\n",
    "for num in range (10,5,-1):\n",
    "    print(num)"
   ]
  },
  {
   "cell_type": "code",
   "execution_count": 11,
   "metadata": {},
   "outputs": [
    {
     "name": "stdout",
     "output_type": "stream",
     "text": [
      "\n",
      "Na\n",
      "NaNa\n",
      "NaNaNa\n",
      "NaNaNaNa\n",
      "NaNaNaNaNa\n",
      "NaNaNaNaNaNa\n",
      "NaNaNaNaNaNaNa\n",
      "NaNaNaNaNaNaNaNa\n",
      "NaNaNaNaNaNaNaNaNa\n"
     ]
    }
   ],
   "source": [
    "## pattern loop\n",
    "for i in range(10):\n",
    "    print(i * 'Na')"
   ]
  },
  {
   "cell_type": "markdown",
   "metadata": {},
   "source": [
    "extra function  setting for ' for loop '\n",
    "\n",
    "*enumerate\n",
    "\n",
    "*zip"
   ]
  },
  {
   "cell_type": "code",
   "execution_count": 4,
   "metadata": {},
   "outputs": [
    {
     "name": "stdout",
     "output_type": "stream",
     "text": [
      "apple\n",
      "orange\n",
      "banana\n",
      "cherry\n",
      "kiwi\n",
      "mango\n"
     ]
    }
   ],
   "source": [
    "fruits = ['apple','orange','banana','cherry','kiwi','mango']\n",
    "for fruit in fruits:\n",
    "    print(fruit)"
   ]
  },
  {
   "cell_type": "code",
   "execution_count": 14,
   "metadata": {},
   "outputs": [
    {
     "name": "stdout",
     "output_type": "stream",
     "text": [
      "9 (0, 'apple')\n",
      "9 (1, 'orange')\n",
      "9 (2, 'banana')\n",
      "9 (3, 'cherry')\n",
      "9 (4, 'kiwi')\n",
      "9 (5, 'mango')\n"
     ]
    }
   ],
   "source": [
    "for fruit in enumerate(fruits):\n",
    "    print(i,fruit) "
   ]
  },
  {
   "cell_type": "code",
   "execution_count": 15,
   "metadata": {},
   "outputs": [
    {
     "name": "stdout",
     "output_type": "stream",
     "text": [
      "0 5\n",
      "1 mango\n"
     ]
    }
   ],
   "source": [
    "for i, fruit in enumerate(fruit):\n",
    "    print(i,fruit)"
   ]
  },
  {
   "cell_type": "code",
   "execution_count": 3,
   "metadata": {},
   "outputs": [],
   "source": [
    "prices = [100,40,200,50,240,60]"
   ]
  },
  {
   "cell_type": "code",
   "execution_count": 7,
   "metadata": {},
   "outputs": [
    {
     "name": "stdout",
     "output_type": "stream",
     "text": [
      "apple => 100\n",
      "orange => 40\n",
      "banana => 200\n",
      "cherry => 50\n",
      "kiwi => 240\n",
      "mango => 60\n"
     ]
    }
   ],
   "source": [
    "for f,p in zip(fruits,prices):\n",
    "    print(f,\"=>\",p)"
   ]
  },
  {
   "cell_type": "code",
   "execution_count": 20,
   "metadata": {},
   "outputs": [],
   "source": [
    "qty = ['2 Kg','2 Dozens','1 Kg','1 Kg','1/2 Kg','5 Kg']"
   ]
  },
  {
   "cell_type": "code",
   "execution_count": 24,
   "metadata": {},
   "outputs": [
    {
     "name": "stdout",
     "output_type": "stream",
     "text": [
      "apple => 2 Kg for 100\n",
      "orange => 2 Dozens for 40\n",
      "banana => 1 Kg for 200\n",
      "cherry => 1 Kg for 50\n",
      "kiwi => 1/2 Kg for 240\n",
      "mango => 5 Kg for 60\n"
     ]
    }
   ],
   "source": [
    "for f,p,q in zip(fruits,prices,qty):\n",
    "    print(f,\"=>\",q,\"for\",p)"
   ]
  },
  {
   "cell_type": "markdown",
   "metadata": {},
   "source": [
    "## Nested loop\n",
    "outer loop one time run and inner loop all iteration run after next outer no. come."
   ]
  },
  {
   "cell_type": "code",
   "execution_count": 1,
   "metadata": {},
   "outputs": [
    {
     "name": "stdout",
     "output_type": "stream",
     "text": [
      "0 0\n",
      "0 1\n",
      "0 2\n",
      "0 3\n",
      "0 4\n",
      "1 0\n",
      "1 1\n",
      "1 2\n",
      "1 3\n",
      "1 4\n",
      "2 0\n",
      "2 1\n",
      "2 2\n",
      "2 3\n",
      "2 4\n",
      "3 0\n",
      "3 1\n",
      "3 2\n",
      "3 3\n",
      "3 4\n",
      "4 0\n",
      "4 1\n",
      "4 2\n",
      "4 3\n",
      "4 4\n"
     ]
    }
   ],
   "source": [
    "for i in range (5):\n",
    "    for j in range(5):\n",
    "        print(i,j)"
   ]
  },
  {
   "cell_type": "markdown",
   "metadata": {},
   "source": [
    "## While Loop :-\n"
   ]
  },
  {
   "cell_type": "code",
   "execution_count": 2,
   "metadata": {},
   "outputs": [
    {
     "name": "stdout",
     "output_type": "stream",
     "text": [
      "50\n",
      "40\n",
      "30\n",
      "20\n",
      "10\n"
     ]
    }
   ],
   "source": [
    "## while loop\n",
    "## true false value \n",
    "start = 50\n",
    "while start > 0:\n",
    "    print(start)\n",
    "    start-=10\n"
   ]
  },
  {
   "cell_type": "code",
   "execution_count": 3,
   "metadata": {},
   "outputs": [
    {
     "name": "stdout",
     "output_type": "stream",
     "text": [
      "0 5 10 15 20 25 30 35 40 45 50 55 "
     ]
    }
   ],
   "source": [
    "num = 100\n",
    "i = 0\n",
    "while i < num:\n",
    "    if i == 60:\n",
    "        break\n",
    "    print(i,end=' ')\n",
    "    i += 5"
   ]
  },
  {
   "cell_type": "code",
   "execution_count": null,
   "metadata": {},
   "outputs": [],
   "source": []
  }
 ],
 "metadata": {
  "kernelspec": {
   "display_name": "Python 3.8.9 64-bit",
   "language": "python",
   "name": "python3"
  },
  "language_info": {
   "codemirror_mode": {
    "name": "ipython",
    "version": 3
   },
   "file_extension": ".py",
   "mimetype": "text/x-python",
   "name": "python",
   "nbconvert_exporter": "python",
   "pygments_lexer": "ipython3",
   "version": "3.9.6"
  },
  "orig_nbformat": 4,
  "vscode": {
   "interpreter": {
    "hash": "31f2aee4e71d21fbe5cf8b01ff0e069b9275f58929596ceb00d14d90e3e16cd6"
   }
  }
 },
 "nbformat": 4,
 "nbformat_minor": 2
}
