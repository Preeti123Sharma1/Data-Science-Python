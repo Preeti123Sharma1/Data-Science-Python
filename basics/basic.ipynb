{
 "cells": [
  {
   "cell_type": "code",
   "execution_count": 1,
   "metadata": {},
   "outputs": [
    {
     "name": "stdout",
     "output_type": "stream",
     "text": [
      "\n"
     ]
    }
   ],
   "source": [
    "print()"
   ]
  },
  {
   "cell_type": "code",
   "execution_count": 3,
   "metadata": {},
   "outputs": [
    {
     "name": "stdout",
     "output_type": "stream",
     "text": [
      "Bruce Campbell\n"
     ]
    }
   ],
   "source": [
    "print('Bruce Campbell')"
   ]
  },
  {
   "cell_type": "code",
   "execution_count": 7,
   "metadata": {},
   "outputs": [
    {
     "data": {
      "text/plain": [
       "'Welcome to Kingdom'"
      ]
     },
     "execution_count": 7,
     "metadata": {},
     "output_type": "execute_result"
    }
   ],
   "source": [
    "\"Welcome to Kingdom\""
   ]
  },
  {
   "cell_type": "code",
   "execution_count": 8,
   "metadata": {},
   "outputs": [
    {
     "data": {
      "text/plain": [
       "33130"
      ]
     },
     "execution_count": 8,
     "metadata": {},
     "output_type": "execute_result"
    }
   ],
   "source": [
    "230+32900"
   ]
  },
  {
   "cell_type": "code",
   "execution_count": 10,
   "metadata": {},
   "outputs": [
    {
     "name": "stdout",
     "output_type": "stream",
     "text": [
      "this is an apple it is fruit i dont like apple\n"
     ]
    }
   ],
   "source": [
    "print('this is an apple','it is fruit','i dont like apple')"
   ]
  },
  {
   "cell_type": "code",
   "execution_count": 26,
   "metadata": {},
   "outputs": [
    {
     "name": "stdout",
     "output_type": "stream",
     "text": [
      "1 2 3 4 2.5 33.2\n"
     ]
    }
   ],
   "source": [
    "print(1,2,3,4,2.5,33.2)"
   ]
  },
  {
   "cell_type": "code",
   "execution_count": 16,
   "metadata": {},
   "outputs": [
    {
     "name": "stdout",
     "output_type": "stream",
     "text": [
      "This is python\n",
      "we are going to code\n",
      "And learn the secretes of python\n",
      "thats it!\n"
     ]
    }
   ],
   "source": [
    "print('This is python')\n",
    "print('we are going to code')\n",
    "print('And learn the secretes of python')\n",
    "print('thats it!')"
   ]
  },
  {
   "cell_type": "code",
   "execution_count": 17,
   "metadata": {},
   "outputs": [
    {
     "name": "stdout",
     "output_type": "stream",
     "text": [
      "This is python \n",
      "we are going to code \n",
      "And learn the secretes of python \n",
      "thats it!\n"
     ]
    }
   ],
   "source": [
    "print('This is python \\nwe are going to code \\nAnd learn the secretes of python \\nthats it!')"
   ]
  },
  {
   "cell_type": "code",
   "execution_count": 19,
   "metadata": {},
   "outputs": [],
   "source": [
    "import this"
   ]
  },
  {
   "cell_type": "code",
   "execution_count": 21,
   "metadata": {},
   "outputs": [
    {
     "name": "stdout",
     "output_type": "stream",
     "text": [
      "This is python Data Science\n",
      "we are going to code\n",
      "And learn the secretes of python\n",
      "Thats it!\n",
      "\n"
     ]
    }
   ],
   "source": [
    "print('''This is python Data Science\n",
    "we are going to code\n",
    "And learn the secretes of python\n",
    "Thats it!\n",
    "''')"
   ]
  },
  {
   "cell_type": "markdown",
   "metadata": {},
   "source": [
    "there are few settings in print function that we can provide whenever we want to print something. "
   ]
  },
  {
   "cell_type": "code",
   "execution_count": 25,
   "metadata": {},
   "outputs": [
    {
     "name": "stdout",
     "output_type": "stream",
     "text": [
      "1🥶🥶2🥶🥶33.2🥶🥶3\n"
     ]
    }
   ],
   "source": [
    "print(1,2,33.2,3, sep='🥶🥶')"
   ]
  },
  {
   "cell_type": "code",
   "execution_count": 28,
   "metadata": {},
   "outputs": [
    {
     "name": "stdout",
     "output_type": "stream",
     "text": [
      "This is multiline message "
     ]
    }
   ],
   "source": [
    "print('This', end=' ')\n",
    "print('is', end=' ')\n",
    "print('multiline', end=' ')\n",
    "print('message', end=' ')"
   ]
  },
  {
   "cell_type": "markdown",
   "metadata": {},
   "source": [
    "Creating a variable in python is super easy-\n",
    "age=18\n",
    "name='bob'\n",
    "color2='red'\n",
    "is_sleeping=False\n"
   ]
  },
  {
   "cell_type": "code",
   "execution_count": 34,
   "metadata": {},
   "outputs": [],
   "source": [
    "age = 121\n",
    "name = 'nobita'\n",
    "is_married = True\n",
    "color2 = 'red'"
   ]
  },
  {
   "cell_type": "code",
   "execution_count": 37,
   "metadata": {},
   "outputs": [],
   "source": [
    "name = 'nobita & suzuka'"
   ]
  },
  {
   "cell_type": "markdown",
   "metadata": {},
   "source": [
    "data type can be changed by changing the value of a variable.\n"
   ]
  },
  {
   "cell_type": "code",
   "execution_count": 38,
   "metadata": {},
   "outputs": [],
   "source": [
    "age = 24"
   ]
  },
  {
   "cell_type": "code",
   "execution_count": 43,
   "metadata": {},
   "outputs": [],
   "source": [
    "x = 523314\n",
    "y = 524794877\n",
    "z = 93847363094775656902002737645123454987476534300000002222777464655447882636646410099838"
   ]
  },
  {
   "cell_type": "markdown",
   "metadata": {},
   "source": [
    "# Integer\n",
    "Integer in python, means any numerical value(positive or negative)\n",
    "integer can be of any length , it is only limited by the memory available\n",
    "we can use the type() function to know which class a variable or a value belong to\n",
    " 1, +2\n",
    " # Example\n",
    " x = 523314\n",
    " y = 524794877\n",
    " z = 93847363094775656902002737645123454987476534300000002222777464655447882636646410099"
   ]
  },
  {
   "cell_type": "markdown",
   "metadata": {},
   "source": [
    "# String - \n",
    "String literals in python are surrounded by either single quatation marks, or double quatation  marks.\n",
    "MULTILINE STRINGS : We can assign a multiline string by using 3 quotes '''hey'''\n",
    "\n",
    "# del\n",
    "del is the use to delete the variable from the memory"
   ]
  },
  {
   "cell_type": "code",
   "execution_count": 44,
   "metadata": {},
   "outputs": [],
   "source": [
    "del age"
   ]
  },
  {
   "cell_type": "markdown",
   "metadata": {},
   "source": [
    "# Boolean\n",
    "True or False"
   ]
  },
  {
   "cell_type": "code",
   "execution_count": 46,
   "metadata": {},
   "outputs": [],
   "source": [
    "is_coding = True\n",
    "is_fun = True\n",
    "are_u_bored = False"
   ]
  },
  {
   "cell_type": "markdown",
   "metadata": {},
   "source": [
    "# Nonetype \n",
    "null value and no value at all\n",
    "CREATE a empty variable"
   ]
  },
  {
   "cell_type": "code",
   "execution_count": 47,
   "metadata": {},
   "outputs": [],
   "source": [
    "a = [5,10,15,20,30,40]\n",
    "vals =[1,2.2,'python']\n",
    "color = ['red','green','yellow']"
   ]
  },
  {
   "cell_type": "markdown",
   "metadata": {},
   "source": [
    "# Tuples-"
   ]
  },
  {
   "cell_type": "code",
   "execution_count": 48,
   "metadata": {},
   "outputs": [],
   "source": [
    "a = (5,10,15,20,30,40)\n",
    "vals =(1,2.2,'python')\n",
    "color = ('red','green','yellow')"
   ]
  },
  {
   "cell_type": "markdown",
   "metadata": {},
   "source": [
    "# Set-"
   ]
  },
  {
   "cell_type": "code",
   "execution_count": 51,
   "metadata": {},
   "outputs": [],
   "source": [
    "a = {2,3,5,7,6,55,4,22,88}\n",
    "vals = {1,2.2,'python'}\n",
    "colors = {'red','yellow','green'}"
   ]
  },
  {
   "cell_type": "markdown",
   "metadata": {},
   "source": [
    "# Dictionaries"
   ]
  },
  {
   "cell_type": "code",
   "execution_count": 54,
   "metadata": {},
   "outputs": [],
   "source": [
    "car_info = {\n",
    "    \"brand\": \"Ford\",\n",
    "    \"model\": \"Mustang\",\n",
    "    \"year\": 1920\n",
    "}"
   ]
  },
  {
   "cell_type": "markdown",
   "metadata": {},
   "source": [
    "# input in python"
   ]
  },
  {
   "cell_type": "code",
   "execution_count": 55,
   "metadata": {},
   "outputs": [
    {
     "name": "stdout",
     "output_type": "stream",
     "text": [
      "So according to you\n",
      "you are nidhi\n",
      "and you live in lucknow\n"
     ]
    }
   ],
   "source": [
    "name = input('What is your name?')\n",
    "city = input('what city do you live in? ')\n",
    "print('So according to you')\n",
    "print('you are',name)\n",
    "print('and you live in',city)"
   ]
  },
  {
   "cell_type": "markdown",
   "metadata": {},
   "source": [
    "# Keywords and operation-\n",
    "35 keywords in the python\n",
    "# 1- arithmetic operator\n"
   ]
  },
  {
   "cell_type": "code",
   "execution_count": 2,
   "metadata": {},
   "outputs": [
    {
     "name": "stdout",
     "output_type": "stream",
     "text": [
      "13\n",
      "7\n",
      "30\n",
      "3.3333333333333335\n",
      "3\n",
      "3\n"
     ]
    },
    {
     "data": {
      "text/plain": [
       "1024"
      ]
     },
     "execution_count": 2,
     "metadata": {},
     "output_type": "execute_result"
    }
   ],
   "source": [
    "a=10\n",
    "b=3\n",
    "\n",
    "print(a+b) # add\n",
    "print(a-b) # sub\n",
    "print(a*b) # mul\n",
    "print(a/b) # float div\n",
    "print(a//b) # int div\n",
    "print( 23 % 5 ) #remainder\n",
    "2**10 # **represented exponential\n"
   ]
  },
  {
   "cell_type": "code",
   "execution_count": 3,
   "metadata": {},
   "outputs": [],
   "source": [
    "# assignment operators\n",
    "a=10\n",
    "b=5\n",
    "c=3\n",
    "# alternate way to assign a value to a variable\n",
    "x, y, z = 10, 20, 30\n",
    "\n",
    "a +=2 # update a with a+2\n",
    "a -=3 # update a with a-3\n",
    "a *=4 # update a with a*4\n",
    "a /=2 # update a with a/2\n",
    "a %=3 # update a with a%3"
   ]
  },
  {
   "cell_type": "code",
   "execution_count": 4,
   "metadata": {},
   "outputs": [
    {
     "name": "stdout",
     "output_type": "stream",
     "text": [
      "False\n",
      "False\n",
      "True\n",
      "True\n",
      "False\n",
      "True\n"
     ]
    }
   ],
   "source": [
    "# Comparison operator\n",
    "print(a>b) # greater than\n",
    "print(a>=b) #greater than or equal to\n",
    "print(a<b)  #less than\n",
    "print(a<=b) #less than or equal to\n",
    "print(a==b) #equal tp\n",
    "print(a!=b) # not equal to\n"
   ]
  },
  {
   "cell_type": "code",
   "execution_count": 6,
   "metadata": {},
   "outputs": [
    {
     "name": "stdout",
     "output_type": "stream",
     "text": [
      "False\n",
      "False\n",
      "True\n",
      "False\n",
      "True\n",
      "False\n",
      "False\n"
     ]
    }
   ],
   "source": [
    "# logical operator (and , or , not)\n",
    "print(a>b and a>5)\n",
    "print(a<b and a>5)\n",
    "print(a<b or a>5)\n",
    "print(a>b or a>5)\n",
    "print(not a>b)\n",
    "print(not a<b)\n",
    "print(not a and not b and not c)"
   ]
  },
  {
   "cell_type": "code",
   "execution_count": 7,
   "metadata": {},
   "outputs": [
    {
     "name": "stdout",
     "output_type": "stream",
     "text": [
      "True\n",
      "True\n",
      "True\n",
      "True\n",
      "True\n",
      "True\n",
      "False\n"
     ]
    }
   ],
   "source": [
    "# membership operators-\n",
    "#  ( Keyword =It is use for searching operators in list,strings, sets,tuples etc.)\n",
    "colors = ['red','orange','blue','green','yellow']\n",
    "print('red'in colors)\n",
    "print('yellow'in colors)\n",
    "print('blue'in colors)\n",
    "print('orange'in colors)\n",
    "print('green'in colors)\n",
    "# we also use 'in' in strings also (we can also use 'not in')\n",
    "msg = \"Its the journey that matters\"\n",
    "print('journey' in msg)\n",
    "print('destination' in msg)"
   ]
  },
  {
   "cell_type": "code",
   "execution_count": null,
   "metadata": {},
   "outputs": [],
   "source": [
    "# is operator check wheter two objects belong to same memory location or not"
   ]
  },
  {
   "cell_type": "markdown",
   "metadata": {},
   "source": [
    "# question\n",
    "wap to calculate the area of circle-\n"
   ]
  },
  {
   "cell_type": "code",
   "execution_count": 36,
   "metadata": {},
   "outputs": [
    {
     "name": "stdout",
     "output_type": "stream",
     "text": [
      "28.26 for a circle with radius\n",
      "28.26 for a circle with radius 3\n"
     ]
    }
   ],
   "source": [
    "#area of circle\n",
    "r=3\n",
    "pi = 3.14\n",
    "area=pi*r**2\n",
    "print(area, 'for a circle with radius')\n",
    "#or\n",
    "radius = int(input('Enter the radius of the circle: '))\n",
    "area = 3.14*radius**2\n",
    "print(area, 'for a circle with radius', radius)\n",
    "\n",
    "\n"
   ]
  },
  {
   "cell_type": "code",
   "execution_count": 1,
   "metadata": {},
   "outputs": [
    {
     "name": "stdout",
     "output_type": "stream",
     "text": [
      "area of traingle is =>  138.0\n"
     ]
    }
   ],
   "source": [
    "#area of triangle\n",
    "h=float(input('Enter height => '))\n",
    "b=float(input('Enter breath => '))\n",
    "area_tri=1/2*(h*b)\n",
    "print('area of traingle is => ', area_tri)"
   ]
  },
  {
   "cell_type": "code",
   "execution_count": 9,
   "metadata": {},
   "outputs": [
    {
     "name": "stdout",
     "output_type": "stream",
     "text": [
      "area of rectangle is 6.0\n"
     ]
    }
   ],
   "source": [
    "# area of rectangle\n",
    "l=float(input('Enter length =>'))\n",
    "b=float(input('Enter breath =>'))\n",
    "area=l*b\n",
    "print('area of rectangle is', area)\n"
   ]
  },
  {
   "cell_type": "code",
   "execution_count": 24,
   "metadata": {},
   "outputs": [],
   "source": [
    "import math"
   ]
  },
  {
   "cell_type": "code",
   "execution_count": 26,
   "metadata": {},
   "outputs": [
    {
     "data": {
      "text/plain": [
       "<function math.hypot>"
      ]
     },
     "execution_count": 26,
     "metadata": {},
     "output_type": "execute_result"
    }
   ],
   "source": [
    "math.pi\n",
    "math.hypot"
   ]
  },
  {
   "cell_type": "code",
   "execution_count": 30,
   "metadata": {},
   "outputs": [
    {
     "name": "stdout",
     "output_type": "stream",
     "text": [
      "Hypotenuese is 3.6055512754639896\n"
     ]
    }
   ],
   "source": [
    "import math\n",
    "p = float(input('Enter perpendicular'))\n",
    "b = float(input('Enter base'))\n",
    "h = math.hypot(p,b)\n",
    "print('Hypotenuese is',h)"
   ]
  },
  {
   "cell_type": "code",
   "execution_count": 50,
   "metadata": {},
   "outputs": [
    {
     "name": "stdout",
     "output_type": "stream",
     "text": [
      "120\n"
     ]
    }
   ],
   "source": [
    "# factorial\n",
    "num=int(input(\"enter number: \"))\n",
    "fact=math.factorial(num)\n",
    "print(fact)"
   ]
  },
  {
   "cell_type": "code",
   "execution_count": 48,
   "metadata": {},
   "outputs": [
    {
     "name": "stdout",
     "output_type": "stream",
     "text": [
      "the Compound Interest 1.9339037543253455e+132\n"
     ]
    }
   ],
   "source": [
    "# compund interest\n",
    "p=int(input(\"enter principal\"))\n",
    "r=int(input(\"enter rate\"))\n",
    "n=int(input(\"enter number of time interest paid\"))\n",
    "t=int(input(\"number of time periods\"))\n",
    "c=p*(1+r/n)**(n*t)\n",
    "print(\"the Compound Interest\" ,c)"
   ]
  },
  {
   "cell_type": "code",
   "execution_count": null,
   "metadata": {},
   "outputs": [],
   "source": []
  }
 ],
 "metadata": {
  "kernelspec": {
   "display_name": "Python 3.9.12 ('base')",
   "language": "python",
   "name": "python3"
  },
  "language_info": {
   "codemirror_mode": {
    "name": "ipython",
    "version": 3
   },
   "file_extension": ".py",
   "mimetype": "text/x-python",
   "name": "python",
   "nbconvert_exporter": "python",
   "pygments_lexer": "ipython3",
   "version": "3.9.12"
  },
  "orig_nbformat": 4,
  "vscode": {
   "interpreter": {
    "hash": "3d597f4c481aa0f25dceb95d2a0067e73c0966dcbd003d741d821a7208527ecf"
   }
  }
 },
 "nbformat": 4,
 "nbformat_minor": 2
}
