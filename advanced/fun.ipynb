{
 "cells": [
  {
   "cell_type": "markdown",
   "metadata": {},
   "source": [
    "# Function:-\n",
    "\n",
    "1- Predefined:- \n",
    "\n",
    "2- User defined:-"
   ]
  },
  {
   "cell_type": "code",
   "execution_count": 1,
   "metadata": {},
   "outputs": [
    {
     "name": "stdout",
     "output_type": "stream",
     "text": [
      "Hi, i m outside any function\n"
     ]
    }
   ],
   "source": [
    "def hello():   # [] brackets mean it is optional in this brackets.\n",
    "    print('This is the function: ')\n",
    "    print(\"This is not a good function\")\n",
    "    print('forget that this fuction exists')\n",
    "\n",
    "print('Hi, i m outside any function') "
   ]
  },
  {
   "cell_type": "code",
   "execution_count": 2,
   "metadata": {},
   "outputs": [
    {
     "name": "stdout",
     "output_type": "stream",
     "text": [
      "This is the function: \n",
      "This is not a good function\n",
      "forget that this fuction exists\n"
     ]
    }
   ],
   "source": [
    "hello() # this process is known as calling the function"
   ]
  },
  {
   "cell_type": "code",
   "execution_count": 3,
   "metadata": {},
   "outputs": [
    {
     "name": "stdout",
     "output_type": "stream",
     "text": [
      "This is the function: \n",
      "This is not a good function\n",
      "forget that this fuction exists\n",
      "This is the function: \n",
      "This is not a good function\n",
      "forget that this fuction exists\n",
      "This is the function: \n",
      "This is not a good function\n",
      "forget that this fuction exists\n",
      "This is the function: \n",
      "This is not a good function\n",
      "forget that this fuction exists\n",
      "This is the function: \n",
      "This is not a good function\n",
      "forget that this fuction exists\n"
     ]
    }
   ],
   "source": [
    "hello()\n",
    "hello()\n",
    "hello()\n",
    "hello()\n",
    "hello()"
   ]
  },
  {
   "cell_type": "code",
   "execution_count": 4,
   "metadata": {},
   "outputs": [
    {
     "name": "stdout",
     "output_type": "stream",
     "text": [
      "This is the function: \n",
      "This is not a good function\n",
      "forget that this fuction exists\n",
      "This is the function: \n",
      "This is not a good function\n",
      "forget that this fuction exists\n",
      "This is the function: \n",
      "This is not a good function\n",
      "forget that this fuction exists\n"
     ]
    }
   ],
   "source": [
    "for i in range(3):\n",
    "    hello()"
   ]
  },
  {
   "cell_type": "code",
   "execution_count": 5,
   "metadata": {},
   "outputs": [],
   "source": [
    "def area():\n",
    "    pass      # we use pass in for loop, if else."
   ]
  },
  {
   "cell_type": "code",
   "execution_count": 6,
   "metadata": {},
   "outputs": [],
   "source": [
    "def area(length, breath):\n",
    "    ans = length * breath\n",
    "    return ans"
   ]
  },
  {
   "cell_type": "code",
   "execution_count": 7,
   "metadata": {},
   "outputs": [
    {
     "data": {
      "text/plain": [
       "25"
      ]
     },
     "execution_count": 7,
     "metadata": {},
     "output_type": "execute_result"
    }
   ],
   "source": [
    "area(5,5)"
   ]
  },
  {
   "cell_type": "code",
   "execution_count": 8,
   "metadata": {},
   "outputs": [
    {
     "name": "stdout",
     "output_type": "stream",
     "text": [
      "the area is: 12\n"
     ]
    }
   ],
   "source": [
    "print('the area is:',area(4,3))"
   ]
  },
  {
   "cell_type": "code",
   "execution_count": 9,
   "metadata": {},
   "outputs": [
    {
     "name": "stdout",
     "output_type": "stream",
     "text": [
      "16 15\n"
     ]
    }
   ],
   "source": [
    "a = area(4,4)\n",
    "b = area(3,5)\n",
    "print(a,b)"
   ]
  },
  {
   "cell_type": "code",
   "execution_count": 10,
   "metadata": {},
   "outputs": [
    {
     "name": "stdout",
     "output_type": "stream",
     "text": [
      "190\n"
     ]
    }
   ],
   "source": [
    "big_area = area(5,5) + area(10,15) +15    #funtion in expression\n",
    "print(big_area)"
   ]
  },
  {
   "cell_type": "code",
   "execution_count": 11,
   "metadata": {},
   "outputs": [],
   "source": [
    "def fib(start: int,size: int):\n",
    "    '''\n",
    "    This fibonacci function\n",
    "\n",
    "    - start: pass a number for the start of the fabonacci series\n",
    "    - size: size of the fabonacci series\n",
    "    - returns: list of fabonacci series\n",
    "\n",
    "    ```\n",
    "    out = fib(0)\n",
    "    print(out)\n",
    "    ```\n",
    "    '''\n",
    "    out = [start, start+1] #list with 2 init values\n",
    "    for i in range(size-2):\n",
    "        out.append(out[-1] + out[-2])\n",
    "    return out     "
   ]
  },
  {
   "cell_type": "code",
   "execution_count": 12,
   "metadata": {},
   "outputs": [
    {
     "name": "stdout",
     "output_type": "stream",
     "text": [
      "[0, 1, 1, 2, 3, 5, 8, 13, 21, 34, 55, 89, 144, 233, 377, 610, 987, 1597, 2584, 4181, 6765, 10946, 17711, 28657, 46368]\n"
     ]
    }
   ],
   "source": [
    "print(fib(0, 25))"
   ]
  },
  {
   "cell_type": "code",
   "execution_count": 13,
   "metadata": {},
   "outputs": [],
   "source": [
    "# create a function to calculate to S.I and amount and return them\n",
    "\n",
    "def simple_interest(p:int, r:int, t:int):\n",
    "    s= (p * r * t)/100\n",
    "    amt = p - s\n",
    "    return s, amt"
   ]
  },
  {
   "cell_type": "code",
   "execution_count": 14,
   "metadata": {},
   "outputs": [
    {
     "data": {
      "text/plain": [
       "(120.0, 1880.0)"
      ]
     },
     "execution_count": 14,
     "metadata": {},
     "output_type": "execute_result"
    }
   ],
   "source": [
    "simple_interest(2000,2,3)"
   ]
  },
  {
   "cell_type": "code",
   "execution_count": 15,
   "metadata": {},
   "outputs": [
    {
     "name": "stdout",
     "output_type": "stream",
     "text": [
      "120.0 1880.0\n"
     ]
    }
   ],
   "source": [
    "s, amt = simple_interest(2000,2,3)\n",
    "print(s, amt)"
   ]
  },
  {
   "cell_type": "code",
   "execution_count": 16,
   "metadata": {},
   "outputs": [],
   "source": [
    "import utils"
   ]
  },
  {
   "cell_type": "code",
   "execution_count": 17,
   "metadata": {},
   "outputs": [],
   "source": [
    "s = 'This is a python file '"
   ]
  },
  {
   "cell_type": "code",
   "execution_count": 18,
   "metadata": {},
   "outputs": [
    {
     "data": {
      "text/plain": [
       "{'This': 1, 'a': 1, 'python': 1, 'file': 1, 'is': 1}"
      ]
     },
     "execution_count": 18,
     "metadata": {},
     "output_type": "execute_result"
    }
   ],
   "source": [
    "utils.word_counter(s)"
   ]
  },
  {
   "cell_type": "code",
   "execution_count": 19,
   "metadata": {},
   "outputs": [
    {
     "data": {
      "text/plain": [
       "{'i': 3,\n",
       " 's': 2,\n",
       " ' ': 5,\n",
       " 'a': 1,\n",
       " 'h': 2,\n",
       " 'y': 1,\n",
       " 'o': 1,\n",
       " 'p': 1,\n",
       " 'e': 1,\n",
       " 'l': 1,\n",
       " 'T': 1,\n",
       " 'n': 1,\n",
       " 'f': 1,\n",
       " 't': 1}"
      ]
     },
     "execution_count": 19,
     "metadata": {},
     "output_type": "execute_result"
    }
   ],
   "source": [
    "utils.char_counter(s)"
   ]
  },
  {
   "cell_type": "code",
   "execution_count": null,
   "metadata": {},
   "outputs": [],
   "source": []
  }
 ],
 "metadata": {
  "kernelspec": {
   "display_name": "Python 3.9.12 ('base')",
   "language": "python",
   "name": "python3"
  },
  "language_info": {
   "codemirror_mode": {
    "name": "ipython",
    "version": 3
   },
   "file_extension": ".py",
   "mimetype": "text/x-python",
   "name": "python",
   "nbconvert_exporter": "python",
   "pygments_lexer": "ipython3",
   "version": "3.9.12"
  },
  "orig_nbformat": 4,
  "vscode": {
   "interpreter": {
    "hash": "3d597f4c481aa0f25dceb95d2a0067e73c0966dcbd003d741d821a7208527ecf"
   }
  }
 },
 "nbformat": 4,
 "nbformat_minor": 2
}
